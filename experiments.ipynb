{
 "cells": [
  {
   "cell_type": "code",
   "execution_count": 2,
   "metadata": {},
   "outputs": [],
   "source": [
    "import pandas as pd\n",
    "from ase.visualize import view as view_molecule\n",
    "from ase.io import read as read_molecule\n",
    "import ase\n",
    "import numpy as np\n",
    "import random\n",
    "\n",
    "\n",
    "from ase.cell import Cell\n",
    "from dscribe.descriptors import CoulombMatrix, SineMatrix, EwaldSumMatrix, MBTR\n",
    "\n",
    "from sklearn.preprocessing import StandardScaler\n",
    "from sklearn.decomposition import PCA\n",
    "import matplotlib.pyplot as plt\n",
    "import numpy.linalg as LA\n",
    "from sklearn.linear_model import LinearRegression\n",
    "from sklearn.ensemble import RandomForestRegressor\n",
    "\n",
    "\n",
    "import warnings\n",
    "warnings.filterwarnings('ignore')\n"
   ]
  },
  {
   "cell_type": "code",
   "execution_count": 3,
   "metadata": {},
   "outputs": [],
   "source": [
    "DATA_PATH = './nomad2018-predict-transparent-conductors'\n"
   ]
  },
  {
   "cell_type": "code",
   "execution_count": 4,
   "metadata": {},
   "outputs": [],
   "source": [
    "def custom_converter(entry):\n",
    "    return np.array([float(x) for x in entry[1:-1].split(',')])"
   ]
  },
  {
   "cell_type": "code",
   "execution_count": 5,
   "metadata": {},
   "outputs": [],
   "source": [
    "train_all_data = pd.read_csv(\n",
    "    f'{DATA_PATH}/train_extrainfo.csv',\n",
    "    converters={\n",
    "        'CoulombMatrix':custom_converter,\n",
    "        'SineMatrix':custom_converter,\n",
    "        'EwaldSumMatrix':custom_converter\n",
    "    }\n",
    ")\n",
    "test_all_data = pd.read_csv(\n",
    "    f'{DATA_PATH}/test_extrainfo.csv',\n",
    "    converters={\n",
    "        'CoulombMatrix':custom_converter,\n",
    "        'SineMatrix':custom_converter,\n",
    "        'EwaldSumMatrix':custom_converter\n",
    "    }\n",
    ")"
   ]
  },
  {
   "cell_type": "code",
   "execution_count": 6,
   "metadata": {},
   "outputs": [
    {
     "data": {
      "text/plain": [
       "(6400,)"
      ]
     },
     "execution_count": 6,
     "metadata": {},
     "output_type": "execute_result"
    }
   ],
   "source": [
    "train_all_data['CoulombMatrix'][0].shape"
   ]
  },
  {
   "cell_type": "markdown",
   "metadata": {},
   "source": [
    "# Basic linear regression"
   ]
  },
  {
   "cell_type": "code",
   "execution_count": 7,
   "metadata": {},
   "outputs": [],
   "source": [
    "def get_eigenspectrum(matrix):\n",
    "    spectrum = LA.eigvalsh(matrix)\n",
    "    spectrum = np.sort(spectrum)[::-1]\n",
    "    return spectrum"
   ]
  },
  {
   "cell_type": "code",
   "execution_count": 8,
   "metadata": {},
   "outputs": [],
   "source": [
    "def create_matrix_df(data,pca_components=None,train=True):\n",
    "    ewald_spectrum_list = []\n",
    "    for m in data['EwaldSumMatrix']:\n",
    "        ewald_spectrum_list.append(\n",
    "            get_eigenspectrum(\n",
    "                np.reshape(m, (80, 80))\n",
    "            )\n",
    "        )\n",
    "    ewald_spectrum_df = pd.DataFrame(ewald_spectrum_list).astype(float)\n",
    "    ewald_spectrum_df = ewald_spectrum_df.fillna(0)\n",
    "    x = ewald_spectrum_df.loc[:, :].values\n",
    "    x = StandardScaler().fit_transform(x)\n",
    "    #y = data.loc[:, ['formation_energy_ev_natom']].values\n",
    "    pca = PCA(n_components=15).fit(x)\n",
    "\n",
    "    # PCA n_components calculation\n",
    "    rolling_sum = 0\n",
    "    n_components = 1\n",
    "    for i, num in enumerate(pca.explained_variance_ratio_):\n",
    "        rolling_sum += num\n",
    "        if rolling_sum > 0.95:\n",
    "            n_components = i\n",
    "            break\n",
    "    \n",
    "    if not train:\n",
    "        n_components = pca_components\n",
    "\n",
    "    print(f'Performing PCA with {n_components} components')\n",
    "    pca = PCA(n_components)\n",
    "    principalComponents = pca.fit_transform(x)\n",
    "    principalDf = pd.DataFrame(data=principalComponents)\n",
    "    if train:\n",
    "        to_drop = ['id', 'formation_energy_ev_natom', 'bandgap_energy_ev',\n",
    "               'CoulombMatrix', 'SineMatrix', 'EwaldSumMatrix']\n",
    "        dfcombined = pd.concat([data, principalDf], axis=1).drop(to_drop, axis=1)\n",
    "    else:\n",
    "        to_drop = ['id',\n",
    "               'CoulombMatrix', 'SineMatrix', 'EwaldSumMatrix']\n",
    "        dfcombined = pd.concat([data, principalDf], axis=1).drop(to_drop, axis=1)\n",
    "    return dfcombined, n_components\n",
    "\n"
   ]
  },
  {
   "cell_type": "code",
   "execution_count": 22,
   "metadata": {},
   "outputs": [],
   "source": [
    "\n",
    "def compute_final_values(train_all_data, test_all_data, target_column, model):\n",
    "    # train\n",
    "    dfcombined, n_components = create_matrix_df(train_all_data)\n",
    "    rf = model.fit(dfcombined, train_all_data[target_column])\n",
    "    score = rf.score(dfcombined, train_all_data[target_column])\n",
    "    print(f'Training score: {score}')\n",
    "    # test\n",
    "    dfcombined, n_components = create_matrix_df(test_all_data, train=False, pca_components=n_components)\n",
    "    predicted = rf.predict(dfcombined)\n",
    "    return predicted\n"
   ]
  },
  {
   "cell_type": "markdown",
   "metadata": {},
   "source": [
    "## Experiment 1: Random forest"
   ]
  },
  {
   "cell_type": "code",
   "execution_count": null,
   "metadata": {},
   "outputs": [],
   "source": [
    "\n",
    "pred_fe = compute_final_values(\n",
    "    train_all_data, \n",
    "    test_all_data, \n",
    "    target_column='formation_energy_ev_natom',\n",
    "    model = RandomForestRegressor(n_estimators=1000, random_state=2)\n",
    ")\n",
    "pred_bandgap = compute_final_values(\n",
    "    train_all_data, \n",
    "    test_all_data, \n",
    "    target_column='bandgap_energy_ev',\n",
    "    model = RandomForestRegressor(n_estimators=1000, random_state=2)\n",
    ")"
   ]
  },
  {
   "cell_type": "code",
   "execution_count": null,
   "metadata": {},
   "outputs": [],
   "source": [
    "pred_fe = compute_final_values(\n",
    "    train_all_data, \n",
    "    test_all_data, \n",
    "    target_column='formation_energy_ev_natom',\n",
    "    model = RandomForestRegressor(n_estimators=1000, random_state=2)\n",
    ")\n",
    "pred_bandgap = compute_final_values(\n",
    "    train_all_data, \n",
    "    test_all_data, \n",
    "    target_column='bandgap_energy_ev',\n",
    "    model = RandomForestRegressor(n_estimators=1000, random_state=2)\n",
    ")"
   ]
  },
  {
   "cell_type": "code",
   "execution_count": null,
   "metadata": {},
   "outputs": [],
   "source": []
  },
  {
   "cell_type": "code",
   "execution_count": null,
   "metadata": {},
   "outputs": [],
   "source": []
  },
  {
   "cell_type": "code",
   "execution_count": 19,
   "metadata": {},
   "outputs": [
    {
     "data": {
      "text/html": [
       "<div>\n",
       "<style scoped>\n",
       "    .dataframe tbody tr th:only-of-type {\n",
       "        vertical-align: middle;\n",
       "    }\n",
       "\n",
       "    .dataframe tbody tr th {\n",
       "        vertical-align: top;\n",
       "    }\n",
       "\n",
       "    .dataframe thead th {\n",
       "        text-align: right;\n",
       "    }\n",
       "</style>\n",
       "<table border=\"1\" class=\"dataframe\">\n",
       "  <thead>\n",
       "    <tr style=\"text-align: right;\">\n",
       "      <th></th>\n",
       "      <th>id</th>\n",
       "      <th>formation_energy_ev_natom</th>\n",
       "      <th>bandgap_energy_ev</th>\n",
       "    </tr>\n",
       "  </thead>\n",
       "  <tbody>\n",
       "    <tr>\n",
       "      <th>0</th>\n",
       "      <td>1</td>\n",
       "      <td>0.190086</td>\n",
       "      <td>1.636400</td>\n",
       "    </tr>\n",
       "    <tr>\n",
       "      <th>1</th>\n",
       "      <td>2</td>\n",
       "      <td>0.068089</td>\n",
       "      <td>3.826807</td>\n",
       "    </tr>\n",
       "    <tr>\n",
       "      <th>2</th>\n",
       "      <td>3</td>\n",
       "      <td>0.146527</td>\n",
       "      <td>3.603570</td>\n",
       "    </tr>\n",
       "    <tr>\n",
       "      <th>3</th>\n",
       "      <td>4</td>\n",
       "      <td>0.032716</td>\n",
       "      <td>3.026442</td>\n",
       "    </tr>\n",
       "    <tr>\n",
       "      <th>4</th>\n",
       "      <td>5</td>\n",
       "      <td>0.129898</td>\n",
       "      <td>1.609366</td>\n",
       "    </tr>\n",
       "  </tbody>\n",
       "</table>\n",
       "</div>"
      ],
      "text/plain": [
       "   id  formation_energy_ev_natom  bandgap_energy_ev\n",
       "0   1                   0.190086           1.636400\n",
       "1   2                   0.068089           3.826807\n",
       "2   3                   0.146527           3.603570\n",
       "3   4                   0.032716           3.026442\n",
       "4   5                   0.129898           1.609366"
      ]
     },
     "execution_count": 19,
     "metadata": {},
     "output_type": "execute_result"
    }
   ],
   "source": [
    "id_1 = np.arange(1, len(pred_fe)+1, 1, dtype=int)\n",
    "submission_df = pd.DataFrame({'id':id_1,'formation_energy_ev_natom':pred_fe,'bandgap_energy_ev':pred_bandgap})\n",
    "submission_df.head()\n"
   ]
  },
  {
   "cell_type": "code",
   "execution_count": 20,
   "metadata": {},
   "outputs": [],
   "source": [
    "submission_df.to_csv(\"trial_submission_df_3.csv\", index=False)"
   ]
  }
 ],
 "metadata": {
  "interpreter": {
   "hash": "e1192af5e217a5eade3651f7d91eac2155152d0a081ef6ccfe585b9fffeb7a34"
  },
  "kernelspec": {
   "display_name": "Python 3.7.11 64-bit ('ml_project': conda)",
   "name": "python3"
  },
  "language_info": {
   "codemirror_mode": {
    "name": "ipython",
    "version": 3
   },
   "file_extension": ".py",
   "mimetype": "text/x-python",
   "name": "python",
   "nbconvert_exporter": "python",
   "pygments_lexer": "ipython3",
   "version": "3.7.11"
  },
  "orig_nbformat": 4
 },
 "nbformat": 4,
 "nbformat_minor": 2
}
