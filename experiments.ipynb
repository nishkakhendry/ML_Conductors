{
 "cells": [
  {
   "cell_type": "code",
   "execution_count": 14,
   "metadata": {},
   "outputs": [],
   "source": [
    "import pandas as pd\n",
    "from ase.visualize import view as view_molecule\n",
    "from ase.io import read as read_molecule\n",
    "import ase\n",
    "import numpy as np\n",
    "import random\n",
    "\n",
    "\n",
    "from ase.cell import Cell\n",
    "from dscribe.descriptors import CoulombMatrix, SineMatrix, EwaldSumMatrix, MBTR\n",
    "\n",
    "from sklearn.preprocessing import StandardScaler\n",
    "from sklearn.decomposition import PCA\n",
    "import matplotlib.pyplot as plt\n",
    "import numpy.linalg as LA\n",
    "from sklearn.linear_model import LinearRegression\n",
    "from sklearn.ensemble import RandomForestRegressor\n",
    "\n",
    "\n",
    "import warnings\n",
    "warnings.filterwarnings('ignore')\n"
   ]
  },
  {
   "cell_type": "code",
   "execution_count": 3,
   "metadata": {},
   "outputs": [],
   "source": [
    "DATA_PATH = './nomad2018-predict-transparent-conductors'\n"
   ]
  },
  {
   "cell_type": "markdown",
   "metadata": {},
   "source": [
    "# PCA, basic linear regression"
   ]
  },
  {
   "cell_type": "code",
   "execution_count": 15,
   "metadata": {},
   "outputs": [],
   "source": [
    "def custom_converter(entry):\n",
    "    return np.array([float(x) for x in entry[1:-1].split(',')])"
   ]
  },
  {
   "cell_type": "code",
   "execution_count": 102,
   "metadata": {},
   "outputs": [],
   "source": [
    "train_all_data = pd.read_csv(\n",
    "    f'{DATA_PATH}/train_extrainfo.csv',\n",
    "    converters={\n",
    "        'CoulombMatrix':custom_converter,\n",
    "        'SineMatrix':custom_converter,\n",
    "        'EwaldSumMatrix':custom_converter\n",
    "    }\n",
    ")\n",
    "test_all_data = pd.read_csv(\n",
    "    f'{DATA_PATH}/test_extrainfo.csv',\n",
    "    converters={\n",
    "        'CoulombMatrix':custom_converter,\n",
    "        'SineMatrix':custom_converter,\n",
    "        'EwaldSumMatrix':custom_converter\n",
    "    }\n",
    ")"
   ]
  },
  {
   "cell_type": "code",
   "execution_count": 17,
   "metadata": {},
   "outputs": [
    {
     "data": {
      "text/plain": [
       "(6400,)"
      ]
     },
     "execution_count": 17,
     "metadata": {},
     "output_type": "execute_result"
    }
   ],
   "source": [
    "train_all_data['CoulombMatrix'][0].shape"
   ]
  },
  {
   "cell_type": "code",
   "execution_count": 18,
   "metadata": {},
   "outputs": [],
   "source": [
    "def get_eigenspectrum(matrix):\n",
    "    spectrum = LA.eigvalsh(matrix)\n",
    "    spectrum = np.sort(spectrum)[::-1]\n",
    "    return spectrum"
   ]
  },
  {
   "cell_type": "code",
   "execution_count": 94,
   "metadata": {},
   "outputs": [
    {
     "name": "stdout",
     "output_type": "stream",
     "text": [
      "train\n",
      "Performing PCA with 4 components\n",
      "Score: 0.9772055599282553\n",
      "test\n",
      "Performing PCA with 80 components\n",
      "Performing PCA with 4 components\n",
      "Score: 0.9772055599282553\n",
      "Test complete\n"
     ]
    }
   ],
   "source": [
    "def ewald_compute_values_fe(data, train=True, reg=None, pca_components=None):\n",
    "    ewald_spectrum_list = []\n",
    "    for m in data['EwaldSumMatrix']:\n",
    "        ewald_spectrum_list.append(\n",
    "            get_eigenspectrum(\n",
    "                np.reshape(m, (80, 80))\n",
    "            )\n",
    "        )\n",
    "    ewald_spectrum_df = pd.DataFrame(ewald_spectrum_list).astype(float)\n",
    "    ewald_spectrum_df = ewald_spectrum_df.fillna(0)\n",
    "    x = ewald_spectrum_df.loc[:, :].values\n",
    "    x = StandardScaler().fit_transform(x)\n",
    "    #y = data.loc[:, ['formation_energy_ev_natom']].values\n",
    "    pca = PCA(n_components=15).fit(x)\n",
    "\n",
    "    # PCA n_components calculation\n",
    "    rolling_sum = 0\n",
    "    n_components = 1\n",
    "    for i, num in enumerate(pca.explained_variance_ratio_):\n",
    "        rolling_sum += num\n",
    "        if rolling_sum > 0.95:\n",
    "            n_components = i\n",
    "            break\n",
    "    if not train:\n",
    "        #n_components = pca_components\n",
    "        n_components = 80\n",
    "    print(f'Performing PCA with {n_components} components')\n",
    "    pca = PCA(n_components=80)\n",
    "    principalComponents = pca.fit_transform(x)\n",
    "    principalDf = pd.DataFrame(data=principalComponents)\n",
    "\n",
    "    if train:\n",
    "        to_drop = ['id', 'formation_energy_ev_natom', 'bandgap_energy_ev',\n",
    "               'CoulombMatrix', 'SineMatrix', 'EwaldSumMatrix']\n",
    "        dfcombined = pd.concat([data, principalDf], axis=1).drop(to_drop, axis=1)\n",
    "        rf = RandomForestRegressor(n_estimators=1000, random_state=2).fit(\n",
    "            dfcombined, data['formation_energy_ev_natom'])\n",
    "        score = rf.score(dfcombined, data['formation_energy_ev_natom'])\n",
    "        print(f'Score: {score}')\n",
    "        return rf, n_components\n",
    "\n",
    "    # ideally should not be able to run below component since the data does not have form energy and bg energy\n",
    "\n",
    "    \n",
    "    else:\n",
    "        to_drop = ['id',\n",
    "               'CoulombMatrix', 'SineMatrix', 'EwaldSumMatrix']\n",
    "        dfcombined = pd.concat([data, principalDf], axis=1).drop(to_drop, axis=1)\n",
    "        rf, n_components = ewald_compute_values_fe(train_all_data)\n",
    "        predicted = rf.predict(dfcombined)\n",
    "        #score = rf.score(dfcombined, data['formation_energy_ev_natom'])\n",
    "        #print(f'Score: {score}')\n",
    "        print('Test complete')\n",
    "        return predicted\n",
    "    \n",
    "\n",
    "\n",
    "print('train')\n",
    "rf, n_components = ewald_compute_values_fe(train_all_data)\n",
    "print('test')\n",
    "predicted = ewald_compute_values_fe(test_all_data, train=False,\n",
    "               reg=rf, pca_components=n_components)\n",
    "\n",
    "\n",
    "\n",
    "    "
   ]
  },
  {
   "cell_type": "code",
   "execution_count": 95,
   "metadata": {},
   "outputs": [
    {
     "name": "stdout",
     "output_type": "stream",
     "text": [
      "Performing PCA with 80 components\n",
      "Performing PCA with 4 components\n",
      "Score: 0.9772055599282553\n",
      "Test complete\n"
     ]
    },
    {
     "data": {
      "text/html": [
       "<div>\n",
       "<style scoped>\n",
       "    .dataframe tbody tr th:only-of-type {\n",
       "        vertical-align: middle;\n",
       "    }\n",
       "\n",
       "    .dataframe tbody tr th {\n",
       "        vertical-align: top;\n",
       "    }\n",
       "\n",
       "    .dataframe thead th {\n",
       "        text-align: right;\n",
       "    }\n",
       "</style>\n",
       "<table border=\"1\" class=\"dataframe\">\n",
       "  <thead>\n",
       "    <tr style=\"text-align: right;\">\n",
       "      <th></th>\n",
       "      <th>formation_energy_ev_natom</th>\n",
       "    </tr>\n",
       "  </thead>\n",
       "  <tbody>\n",
       "    <tr>\n",
       "      <th>0</th>\n",
       "      <td>0.189084</td>\n",
       "    </tr>\n",
       "    <tr>\n",
       "      <th>1</th>\n",
       "      <td>0.081008</td>\n",
       "    </tr>\n",
       "    <tr>\n",
       "      <th>2</th>\n",
       "      <td>0.148447</td>\n",
       "    </tr>\n",
       "    <tr>\n",
       "      <th>3</th>\n",
       "      <td>0.048366</td>\n",
       "    </tr>\n",
       "    <tr>\n",
       "      <th>4</th>\n",
       "      <td>0.162532</td>\n",
       "    </tr>\n",
       "    <tr>\n",
       "      <th>...</th>\n",
       "      <td>...</td>\n",
       "    </tr>\n",
       "    <tr>\n",
       "      <th>595</th>\n",
       "      <td>0.105243</td>\n",
       "    </tr>\n",
       "    <tr>\n",
       "      <th>596</th>\n",
       "      <td>0.241889</td>\n",
       "    </tr>\n",
       "    <tr>\n",
       "      <th>597</th>\n",
       "      <td>0.166039</td>\n",
       "    </tr>\n",
       "    <tr>\n",
       "      <th>598</th>\n",
       "      <td>0.234563</td>\n",
       "    </tr>\n",
       "    <tr>\n",
       "      <th>599</th>\n",
       "      <td>0.203896</td>\n",
       "    </tr>\n",
       "  </tbody>\n",
       "</table>\n",
       "<p>600 rows × 1 columns</p>\n",
       "</div>"
      ],
      "text/plain": [
       "     formation_energy_ev_natom\n",
       "0                     0.189084\n",
       "1                     0.081008\n",
       "2                     0.148447\n",
       "3                     0.048366\n",
       "4                     0.162532\n",
       "..                         ...\n",
       "595                   0.105243\n",
       "596                   0.241889\n",
       "597                   0.166039\n",
       "598                   0.234563\n",
       "599                   0.203896\n",
       "\n",
       "[600 rows x 1 columns]"
      ]
     },
     "execution_count": 95,
     "metadata": {},
     "output_type": "execute_result"
    }
   ],
   "source": [
    "predicted = ewald_compute_values_fe(test_all_data, train=False,\n",
    "               reg=rf, pca_components=80)\n",
    "prediction_df = pd.DataFrame(predicted, \n",
    "             columns=['formation_energy_ev_natom'])\n",
    "prediction_df"
   ]
  },
  {
   "cell_type": "code",
   "execution_count": 101,
   "metadata": {},
   "outputs": [
    {
     "name": "stdout",
     "output_type": "stream",
     "text": [
      "train\n",
      "Performing PCA with 80 components\n",
      "Score: 0.9926475909060076\n",
      "test\n",
      "Performing PCA with 80 components\n",
      "Test complete\n"
     ]
    }
   ],
   "source": [
    "def ewald_compute_bandgap_values(data, train=True, reg=None, pca_components=None):\n",
    "    ewald_spectrum_list = []\n",
    "    for m in data['EwaldSumMatrix']:\n",
    "        ewald_spectrum_list.append(\n",
    "            get_eigenspectrum(\n",
    "                np.reshape(m, (80, 80))\n",
    "            )\n",
    "        )\n",
    "    ewald_spectrum_df = pd.DataFrame(ewald_spectrum_list).astype(float)\n",
    "    ewald_spectrum_df = ewald_spectrum_df.fillna(0)\n",
    "    x = ewald_spectrum_df.loc[:, :].values\n",
    "    x = StandardScaler().fit_transform(x)\n",
    "    #y = data.loc[:, ['formation_energy_ev_natom']].values\n",
    "    pca = PCA(n_components=15).fit(x)\n",
    "\n",
    "    # PCA n_components calculation\n",
    "    rolling_sum = 0\n",
    "    n_components = 1\n",
    "    for i, num in enumerate(pca.explained_variance_ratio_):\n",
    "        rolling_sum += num\n",
    "        if rolling_sum > 0.95:\n",
    "            n_components = i\n",
    "            break\n",
    "    if not train:\n",
    "        #n_components = pca_components\n",
    "        n_components = 80\n",
    "    #print(f'Performing PCA with {n_components} components')\n",
    "    print(f'Performing PCA with 80 components')\n",
    "    pca = PCA(n_components=80)\n",
    "    principalComponents = pca.fit_transform(x)\n",
    "    principalDf = pd.DataFrame(data=principalComponents)\n",
    "\n",
    "    if train:\n",
    "        to_drop = ['id', 'formation_energy_ev_natom', 'bandgap_energy_ev',\n",
    "               'CoulombMatrix', 'SineMatrix', 'EwaldSumMatrix']\n",
    "        dfcombined = pd.concat([data, principalDf], axis=1).drop(to_drop, axis=1)\n",
    "        rf = RandomForestRegressor(n_estimators=1000, random_state=2).fit(\n",
    "            dfcombined, data['bandgap_energy_ev'])\n",
    "        score = rf.score(dfcombined, data['bandgap_energy_ev'])\n",
    "        print(f'Score: {score}')\n",
    "        return rf, n_components\n",
    "\n",
    "    # ideally should not be able to run below component since the data does not have form energy and bg energy\n",
    "\n",
    "    \n",
    "    else:\n",
    "        to_drop = ['id',\n",
    "               'CoulombMatrix', 'SineMatrix', 'EwaldSumMatrix']\n",
    "        dfcombined = pd.concat([data, principalDf], axis=1).drop(to_drop, axis=1)\n",
    "        # rf, n_components = ewald_compute_bandgap_values(train_all_data)\n",
    "        predicted = reg.predict(dfcombined)\n",
    "        #score = rf.score(dfcombined, data['formation_energy_ev_natom'])\n",
    "        #print(f'Score: {score}')\n",
    "        print('Test complete')\n",
    "        return predicted\n",
    "    \n",
    "\n",
    "\n",
    "print('train')\n",
    "rf, n_components = ewald_compute_bandgap_values(train_all_data)\n",
    "print('test')\n",
    "predicted_bg = ewald_compute_bandgap_values(test_all_data, train=False,\n",
    "               reg=rf, pca_components=80)"
   ]
  },
  {
   "cell_type": "code",
   "execution_count": 97,
   "metadata": {},
   "outputs": [
    {
     "name": "stdout",
     "output_type": "stream",
     "text": [
      "Performing PCA with 80 components\n",
      "Performing PCA with 80 components\n",
      "Score: 0.9926475909060076\n",
      "Test complete\n"
     ]
    }
   ],
   "source": [
    "predicted_bg = ewald_compute_bandgap_values(test_all_data, train=False,\n",
    "               reg=rf, pca_components=80)\n",
    "prediction_df_2 = pd.DataFrame(predicted_bg, \n",
    "             columns=['bandgap_energy_ev'])"
   ]
  },
  {
   "cell_type": "code",
   "execution_count": 98,
   "metadata": {},
   "outputs": [
    {
     "data": {
      "text/html": [
       "<div>\n",
       "<style scoped>\n",
       "    .dataframe tbody tr th:only-of-type {\n",
       "        vertical-align: middle;\n",
       "    }\n",
       "\n",
       "    .dataframe tbody tr th {\n",
       "        vertical-align: top;\n",
       "    }\n",
       "\n",
       "    .dataframe thead th {\n",
       "        text-align: right;\n",
       "    }\n",
       "</style>\n",
       "<table border=\"1\" class=\"dataframe\">\n",
       "  <thead>\n",
       "    <tr style=\"text-align: right;\">\n",
       "      <th></th>\n",
       "      <th>id</th>\n",
       "      <th>formation_energy_ev_natom</th>\n",
       "      <th>bandgap_energy_ev</th>\n",
       "    </tr>\n",
       "  </thead>\n",
       "  <tbody>\n",
       "    <tr>\n",
       "      <th>0</th>\n",
       "      <td>1</td>\n",
       "      <td>0.189084</td>\n",
       "      <td>1.656796</td>\n",
       "    </tr>\n",
       "    <tr>\n",
       "      <th>1</th>\n",
       "      <td>2</td>\n",
       "      <td>0.081008</td>\n",
       "      <td>3.774391</td>\n",
       "    </tr>\n",
       "    <tr>\n",
       "      <th>2</th>\n",
       "      <td>3</td>\n",
       "      <td>0.148447</td>\n",
       "      <td>3.423251</td>\n",
       "    </tr>\n",
       "    <tr>\n",
       "      <th>3</th>\n",
       "      <td>4</td>\n",
       "      <td>0.048366</td>\n",
       "      <td>2.970057</td>\n",
       "    </tr>\n",
       "    <tr>\n",
       "      <th>4</th>\n",
       "      <td>5</td>\n",
       "      <td>0.162532</td>\n",
       "      <td>1.615722</td>\n",
       "    </tr>\n",
       "  </tbody>\n",
       "</table>\n",
       "</div>"
      ],
      "text/plain": [
       "   id  formation_energy_ev_natom  bandgap_energy_ev\n",
       "0   1                   0.189084           1.656796\n",
       "1   2                   0.081008           3.774391\n",
       "2   3                   0.148447           3.423251\n",
       "3   4                   0.048366           2.970057\n",
       "4   5                   0.162532           1.615722"
      ]
     },
     "execution_count": 98,
     "metadata": {},
     "output_type": "execute_result"
    }
   ],
   "source": [
    "id_1 = np.arange(1, 601, 1, dtype=int)\n",
    "df_from_arr = pd.DataFrame({'id':id_1,'formation_energy_ev_natom':predicted,'bandgap_energy_ev':predicted_bg})\n",
    "df_from_arr.head()"
   ]
  },
  {
   "cell_type": "code",
   "execution_count": 99,
   "metadata": {},
   "outputs": [],
   "source": [
    "df_from_arr.to_csv(\"trial_submission_df_3.csv\", index=False)"
   ]
  }
 ],
 "metadata": {
  "interpreter": {
   "hash": "e1192af5e217a5eade3651f7d91eac2155152d0a081ef6ccfe585b9fffeb7a34"
  },
  "kernelspec": {
   "display_name": "Python 3.7.11 64-bit ('ml_project': conda)",
   "name": "python3"
  },
  "language_info": {
   "codemirror_mode": {
    "name": "ipython",
    "version": 3
   },
   "file_extension": ".py",
   "mimetype": "text/x-python",
   "name": "python",
   "nbconvert_exporter": "python",
   "pygments_lexer": "ipython3",
   "version": "3.7.11"
  },
  "orig_nbformat": 4
 },
 "nbformat": 4,
 "nbformat_minor": 2
}
