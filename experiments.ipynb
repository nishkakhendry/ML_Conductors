{
 "cells": [
  {
   "cell_type": "code",
   "execution_count": 25,
   "metadata": {},
   "outputs": [],
   "source": [
    "import pandas as pd\n",
    "from ase.visualize import view as view_molecule\n",
    "from ase.io import read as read_molecule\n",
    "import ase\n",
    "import numpy as np\n",
    "import random\n",
    "\n",
    "\n",
    "from ase.cell import Cell\n",
    "from dscribe.descriptors import CoulombMatrix, SineMatrix, EwaldSumMatrix, MBTR\n",
    "\n",
    "from sklearn.preprocessing import StandardScaler\n",
    "from sklearn.decomposition import PCA\n",
    "import matplotlib.pyplot as plt\n",
    "import numpy.linalg as LA\n",
    "from sklearn.linear_model import LinearRegression\n",
    "from sklearn.ensemble import RandomForestRegressor\n",
    "from sklearn.linear_model import Ridge\n",
    "from sklearn.linear_model import Lasso\n",
    "from sklearn.svm import SVR\n",
    "\n",
    "from sklearn.model_selection import train_test_split\n",
    "from sklearn.metrics import mean_absolute_error, accuracy_score, mean_squared_error\n",
    "\n",
    "\n",
    "import warnings\n",
    "warnings.filterwarnings('ignore')\n"
   ]
  },
  {
   "cell_type": "code",
   "execution_count": 2,
   "metadata": {},
   "outputs": [],
   "source": [
    "DATA_PATH = './nomad2018-predict-transparent-conductors'\n"
   ]
  },
  {
   "cell_type": "code",
   "execution_count": 3,
   "metadata": {},
   "outputs": [],
   "source": [
    "def custom_converter(entry):\n",
    "    return np.array([float(x) for x in entry[1:-1].split(',')])"
   ]
  },
  {
   "cell_type": "code",
   "execution_count": 4,
   "metadata": {},
   "outputs": [],
   "source": [
    "train_all_data = pd.read_csv(\n",
    "    f'{DATA_PATH}/train_extrainfo.csv',\n",
    "    converters={\n",
    "        'CoulombMatrix':custom_converter,\n",
    "        'SineMatrix':custom_converter,\n",
    "        'EwaldSumMatrix':custom_converter\n",
    "    }\n",
    ")\n",
    "test_all_data = pd.read_csv(\n",
    "    f'{DATA_PATH}/test_extrainfo.csv',\n",
    "    converters={\n",
    "        'CoulombMatrix':custom_converter,\n",
    "        'SineMatrix':custom_converter,\n",
    "        'EwaldSumMatrix':custom_converter\n",
    "    }\n",
    ")"
   ]
  },
  {
   "cell_type": "code",
   "execution_count": 5,
   "metadata": {},
   "outputs": [
    {
     "data": {
      "text/plain": [
       "(6400,)"
      ]
     },
     "execution_count": 5,
     "metadata": {},
     "output_type": "execute_result"
    }
   ],
   "source": [
    "train_all_data['CoulombMatrix'][0].shape"
   ]
  },
  {
   "cell_type": "markdown",
   "metadata": {},
   "source": [
    "# Basic linear regression"
   ]
  },
  {
   "cell_type": "code",
   "execution_count": 6,
   "metadata": {},
   "outputs": [],
   "source": [
    "def get_eigenspectrum(matrix):\n",
    "    spectrum = LA.eigvalsh(matrix)\n",
    "    spectrum = np.sort(spectrum)[::-1]\n",
    "    return spectrum"
   ]
  },
  {
   "cell_type": "code",
   "execution_count": 20,
   "metadata": {},
   "outputs": [],
   "source": [
    "def create_matrix_df(data,pca_components=None,train=True):\n",
    "    ewald_spectrum_list = []\n",
    "    for m in data['SineMatrix']:\n",
    "        ewald_spectrum_list.append(\n",
    "            get_eigenspectrum(\n",
    "                np.reshape(m, (80, 80))\n",
    "            )\n",
    "        )\n",
    "    ewald_spectrum_df = pd.DataFrame(ewald_spectrum_list).astype(float)\n",
    "    ewald_spectrum_df = ewald_spectrum_df.fillna(0)\n",
    "    x = ewald_spectrum_df.loc[:, :].values\n",
    "    x = StandardScaler().fit_transform(x)\n",
    "    #y = data.loc[:, ['formation_energy_ev_natom']].values\n",
    "    pca = PCA(n_components=15).fit(x)\n",
    "\n",
    "    # PCA n_components calculation\n",
    "    rolling_sum = 0\n",
    "    n_components = 1\n",
    "    for i, num in enumerate(pca.explained_variance_ratio_):\n",
    "        rolling_sum += num\n",
    "        if rolling_sum > 0.95:\n",
    "            n_components = i\n",
    "            break\n",
    "    \n",
    "    if not train:\n",
    "        n_components = pca_components\n",
    "\n",
    "    # print(f'Performing PCA with {n_components} components')\n",
    "    pca = PCA(n_components)\n",
    "    principalComponents = pca.fit_transform(x)\n",
    "    principalDf = pd.DataFrame(data=principalComponents)\n",
    "    if train:\n",
    "        to_drop = ['id', 'formation_energy_ev_natom', 'bandgap_energy_ev',\n",
    "               'CoulombMatrix', 'SineMatrix', 'EwaldSumMatrix']\n",
    "        dfcombined = pd.concat([data, principalDf], axis=1).drop(to_drop, axis=1)\n",
    "        #dfcombined = data.drop(to_drop, axis=1)\n",
    "    else:\n",
    "        to_drop = ['id',\n",
    "               'CoulombMatrix', 'SineMatrix', 'EwaldSumMatrix']\n",
    "        dfcombined = pd.concat([data, principalDf], axis=1).drop(to_drop, axis=1)\n",
    "        #dfcombined = data.drop(to_drop, axis=1)\n",
    "    return dfcombined, n_components\n",
    "\n"
   ]
  },
  {
   "cell_type": "code",
   "execution_count": 12,
   "metadata": {},
   "outputs": [],
   "source": [
    "\n",
    "def compute_final_values(train_all_data, test_all_data, target_column, model):\n",
    "    # train\n",
    "    dfcombined, n_components = create_matrix_df(train_all_data)\n",
    "    rf = model.fit(dfcombined, train_all_data[target_column])\n",
    "    score = rf.score(dfcombined, train_all_data[target_column])\n",
    "    print(f'Training score for {target_column}: {score}')\n",
    "    # test\n",
    "    dfcombined, n_components = create_matrix_df(test_all_data, train=False, pca_components=n_components)\n",
    "    predicted = rf.predict(dfcombined)\n",
    "    return predicted\n"
   ]
  },
  {
   "cell_type": "markdown",
   "metadata": {},
   "source": [
    "## Experiments"
   ]
  },
  {
   "cell_type": "code",
   "execution_count": 13,
   "metadata": {},
   "outputs": [],
   "source": [
    "models = [\n",
    "    ('randomforest', RandomForestRegressor(n_estimators=1000, random_state=2), RandomForestRegressor(n_estimators=1000, random_state=2)),\n",
    "    ('ridge', Ridge(alpha=0.001), Ridge(alpha=0.001)),\n",
    "    ('lasso', Lasso(alpha=0.001, max_iter=1e5), Lasso(alpha=0.001, max_iter=1e5)),\n",
    "    ('linear regression', LinearRegression(),LinearRegression()),\n",
    "    # ('svr', SVR(kernel = 'linear'), SVR(kernel = 'linear'))\n",
    "]"
   ]
  },
  {
   "cell_type": "code",
   "execution_count": 15,
   "metadata": {},
   "outputs": [
    {
     "name": "stdout",
     "output_type": "stream",
     "text": [
      "Running randomforest\n",
      "Training score for formation_energy_ev_natom: 0.9367630699317453\n",
      "Training score for bandgap_energy_ev: 0.9842487962119246\n",
      "Running ridge\n",
      "Training score for formation_energy_ev_natom: 0.3929272898480358\n",
      "Training score for bandgap_energy_ev: 0.8012979761406991\n",
      "Running lasso\n",
      "Training score for formation_energy_ev_natom: 0.3906001508116782\n",
      "Training score for bandgap_energy_ev: 0.8012765900614336\n",
      "Running linear regression\n",
      "Training score for formation_energy_ev_natom: 0.3967412233403318\n",
      "Training score for bandgap_energy_ev: 0.8017992399548747\n"
     ]
    }
   ],
   "source": [
    "for name, train_model, test_model in models:\n",
    "    print(f'Running {name}')\n",
    "    pred_fe = compute_final_values(\n",
    "        train_all_data, \n",
    "        test_all_data, \n",
    "        target_column='formation_energy_ev_natom',\n",
    "        model = train_model\n",
    "    )\n",
    "    pred_bandgap = compute_final_values(\n",
    "        train_all_data, \n",
    "        test_all_data, \n",
    "        target_column='bandgap_energy_ev',\n",
    "        model = test_model\n",
    "    )\n",
    "    id_1 = np.arange(1, len(pred_fe)+1, 1, dtype=int)\n",
    "    submission_df = pd.DataFrame({'id':id_1,'formation_energy_ev_natom':pred_fe,'bandgap_energy_ev':pred_bandgap})\n",
    "    submission_df.to_csv(f\"submissions/trial_submission_df_{name}.csv\", index=False)\n",
    "    "
   ]
  },
  {
   "cell_type": "markdown",
   "metadata": {},
   "source": [
    "### Code to save submission"
   ]
  },
  {
   "cell_type": "markdown",
   "metadata": {},
   "source": []
  },
  {
   "cell_type": "code",
   "execution_count": 19,
   "metadata": {},
   "outputs": [
    {
     "data": {
      "text/html": [
       "<div>\n",
       "<style scoped>\n",
       "    .dataframe tbody tr th:only-of-type {\n",
       "        vertical-align: middle;\n",
       "    }\n",
       "\n",
       "    .dataframe tbody tr th {\n",
       "        vertical-align: top;\n",
       "    }\n",
       "\n",
       "    .dataframe thead th {\n",
       "        text-align: right;\n",
       "    }\n",
       "</style>\n",
       "<table border=\"1\" class=\"dataframe\">\n",
       "  <thead>\n",
       "    <tr style=\"text-align: right;\">\n",
       "      <th></th>\n",
       "      <th>id</th>\n",
       "      <th>formation_energy_ev_natom</th>\n",
       "      <th>bandgap_energy_ev</th>\n",
       "    </tr>\n",
       "  </thead>\n",
       "  <tbody>\n",
       "    <tr>\n",
       "      <th>0</th>\n",
       "      <td>1</td>\n",
       "      <td>0.190086</td>\n",
       "      <td>1.636400</td>\n",
       "    </tr>\n",
       "    <tr>\n",
       "      <th>1</th>\n",
       "      <td>2</td>\n",
       "      <td>0.068089</td>\n",
       "      <td>3.826807</td>\n",
       "    </tr>\n",
       "    <tr>\n",
       "      <th>2</th>\n",
       "      <td>3</td>\n",
       "      <td>0.146527</td>\n",
       "      <td>3.603570</td>\n",
       "    </tr>\n",
       "    <tr>\n",
       "      <th>3</th>\n",
       "      <td>4</td>\n",
       "      <td>0.032716</td>\n",
       "      <td>3.026442</td>\n",
       "    </tr>\n",
       "    <tr>\n",
       "      <th>4</th>\n",
       "      <td>5</td>\n",
       "      <td>0.129898</td>\n",
       "      <td>1.609366</td>\n",
       "    </tr>\n",
       "  </tbody>\n",
       "</table>\n",
       "</div>"
      ],
      "text/plain": [
       "   id  formation_energy_ev_natom  bandgap_energy_ev\n",
       "0   1                   0.190086           1.636400\n",
       "1   2                   0.068089           3.826807\n",
       "2   3                   0.146527           3.603570\n",
       "3   4                   0.032716           3.026442\n",
       "4   5                   0.129898           1.609366"
      ]
     },
     "execution_count": 19,
     "metadata": {},
     "output_type": "execute_result"
    }
   ],
   "source": [
    "id_1 = np.arange(1, len(pred_fe)+1, 1, dtype=int)\n",
    "submission_df = pd.DataFrame({'id':id_1,'formation_energy_ev_natom':pred_fe,'bandgap_energy_ev':pred_bandgap})\n",
    "submission_df.head()\n"
   ]
  },
  {
   "cell_type": "code",
   "execution_count": 20,
   "metadata": {},
   "outputs": [],
   "source": [
    "submission_df.to_csv(\"submissions/trial_submission_df_3.csv\", index=False)"
   ]
  },
  {
   "cell_type": "code",
   "execution_count": 21,
   "metadata": {},
   "outputs": [],
   "source": [
    "dfcombined_1, n_components_1 = create_matrix_df(train_all_data)"
   ]
  },
  {
   "cell_type": "code",
   "execution_count": 22,
   "metadata": {},
   "outputs": [
    {
     "data": {
      "text/html": [
       "<div>\n",
       "<style scoped>\n",
       "    .dataframe tbody tr th:only-of-type {\n",
       "        vertical-align: middle;\n",
       "    }\n",
       "\n",
       "    .dataframe tbody tr th {\n",
       "        vertical-align: top;\n",
       "    }\n",
       "\n",
       "    .dataframe thead th {\n",
       "        text-align: right;\n",
       "    }\n",
       "</style>\n",
       "<table border=\"1\" class=\"dataframe\">\n",
       "  <thead>\n",
       "    <tr style=\"text-align: right;\">\n",
       "      <th></th>\n",
       "      <th>spacegroup</th>\n",
       "      <th>number_of_total_atoms</th>\n",
       "      <th>percent_atom_al</th>\n",
       "      <th>percent_atom_ga</th>\n",
       "      <th>percent_atom_in</th>\n",
       "      <th>lattice_vector_1_ang</th>\n",
       "      <th>lattice_vector_2_ang</th>\n",
       "      <th>lattice_vector_3_ang</th>\n",
       "      <th>lattice_angle_alpha_degree</th>\n",
       "      <th>lattice_angle_beta_degree</th>\n",
       "      <th>lattice_angle_gamma_degree</th>\n",
       "      <th>0</th>\n",
       "      <th>1</th>\n",
       "      <th>2</th>\n",
       "      <th>3</th>\n",
       "      <th>4</th>\n",
       "      <th>5</th>\n",
       "    </tr>\n",
       "  </thead>\n",
       "  <tbody>\n",
       "    <tr>\n",
       "      <th>0</th>\n",
       "      <td>33</td>\n",
       "      <td>80.0</td>\n",
       "      <td>0.6250</td>\n",
       "      <td>0.3750</td>\n",
       "      <td>0.000</td>\n",
       "      <td>9.9523</td>\n",
       "      <td>8.5513</td>\n",
       "      <td>9.1775</td>\n",
       "      <td>90.0026</td>\n",
       "      <td>90.0023</td>\n",
       "      <td>90.0017</td>\n",
       "      <td>3.084841</td>\n",
       "      <td>-5.417648</td>\n",
       "      <td>2.433371</td>\n",
       "      <td>-0.362672</td>\n",
       "      <td>-0.057260</td>\n",
       "      <td>1.158514</td>\n",
       "    </tr>\n",
       "    <tr>\n",
       "      <th>1</th>\n",
       "      <td>194</td>\n",
       "      <td>80.0</td>\n",
       "      <td>0.6250</td>\n",
       "      <td>0.3750</td>\n",
       "      <td>0.000</td>\n",
       "      <td>6.1840</td>\n",
       "      <td>6.1838</td>\n",
       "      <td>23.6287</td>\n",
       "      <td>90.0186</td>\n",
       "      <td>89.9980</td>\n",
       "      <td>120.0025</td>\n",
       "      <td>0.301449</td>\n",
       "      <td>-3.986520</td>\n",
       "      <td>0.721551</td>\n",
       "      <td>2.608416</td>\n",
       "      <td>-0.755415</td>\n",
       "      <td>-0.149227</td>\n",
       "    </tr>\n",
       "    <tr>\n",
       "      <th>2</th>\n",
       "      <td>227</td>\n",
       "      <td>40.0</td>\n",
       "      <td>0.8125</td>\n",
       "      <td>0.1875</td>\n",
       "      <td>0.000</td>\n",
       "      <td>9.7510</td>\n",
       "      <td>5.6595</td>\n",
       "      <td>13.9630</td>\n",
       "      <td>90.9688</td>\n",
       "      <td>91.1228</td>\n",
       "      <td>30.5185</td>\n",
       "      <td>-8.694335</td>\n",
       "      <td>-0.372194</td>\n",
       "      <td>1.442581</td>\n",
       "      <td>2.477459</td>\n",
       "      <td>-0.931437</td>\n",
       "      <td>1.416226</td>\n",
       "    </tr>\n",
       "    <tr>\n",
       "      <th>3</th>\n",
       "      <td>167</td>\n",
       "      <td>30.0</td>\n",
       "      <td>0.7500</td>\n",
       "      <td>0.0000</td>\n",
       "      <td>0.250</td>\n",
       "      <td>5.0036</td>\n",
       "      <td>5.0034</td>\n",
       "      <td>13.5318</td>\n",
       "      <td>89.9888</td>\n",
       "      <td>90.0119</td>\n",
       "      <td>120.0017</td>\n",
       "      <td>-9.895077</td>\n",
       "      <td>0.879398</td>\n",
       "      <td>1.863889</td>\n",
       "      <td>-1.427307</td>\n",
       "      <td>-0.235001</td>\n",
       "      <td>-0.779067</td>\n",
       "    </tr>\n",
       "    <tr>\n",
       "      <th>4</th>\n",
       "      <td>194</td>\n",
       "      <td>80.0</td>\n",
       "      <td>0.0000</td>\n",
       "      <td>0.6250</td>\n",
       "      <td>0.375</td>\n",
       "      <td>6.6614</td>\n",
       "      <td>6.6612</td>\n",
       "      <td>24.5813</td>\n",
       "      <td>89.9960</td>\n",
       "      <td>90.0006</td>\n",
       "      <td>119.9893</td>\n",
       "      <td>6.926983</td>\n",
       "      <td>2.031831</td>\n",
       "      <td>-0.543498</td>\n",
       "      <td>2.671925</td>\n",
       "      <td>2.329128</td>\n",
       "      <td>0.374277</td>\n",
       "    </tr>\n",
       "  </tbody>\n",
       "</table>\n",
       "</div>"
      ],
      "text/plain": [
       "   spacegroup  number_of_total_atoms  percent_atom_al  percent_atom_ga  \\\n",
       "0          33                   80.0           0.6250           0.3750   \n",
       "1         194                   80.0           0.6250           0.3750   \n",
       "2         227                   40.0           0.8125           0.1875   \n",
       "3         167                   30.0           0.7500           0.0000   \n",
       "4         194                   80.0           0.0000           0.6250   \n",
       "\n",
       "   percent_atom_in  lattice_vector_1_ang  lattice_vector_2_ang  \\\n",
       "0            0.000                9.9523                8.5513   \n",
       "1            0.000                6.1840                6.1838   \n",
       "2            0.000                9.7510                5.6595   \n",
       "3            0.250                5.0036                5.0034   \n",
       "4            0.375                6.6614                6.6612   \n",
       "\n",
       "   lattice_vector_3_ang  lattice_angle_alpha_degree  \\\n",
       "0                9.1775                     90.0026   \n",
       "1               23.6287                     90.0186   \n",
       "2               13.9630                     90.9688   \n",
       "3               13.5318                     89.9888   \n",
       "4               24.5813                     89.9960   \n",
       "\n",
       "   lattice_angle_beta_degree  lattice_angle_gamma_degree         0         1  \\\n",
       "0                    90.0023                     90.0017  3.084841 -5.417648   \n",
       "1                    89.9980                    120.0025  0.301449 -3.986520   \n",
       "2                    91.1228                     30.5185 -8.694335 -0.372194   \n",
       "3                    90.0119                    120.0017 -9.895077  0.879398   \n",
       "4                    90.0006                    119.9893  6.926983  2.031831   \n",
       "\n",
       "          2         3         4         5  \n",
       "0  2.433371 -0.362672 -0.057260  1.158514  \n",
       "1  0.721551  2.608416 -0.755415 -0.149227  \n",
       "2  1.442581  2.477459 -0.931437  1.416226  \n",
       "3  1.863889 -1.427307 -0.235001 -0.779067  \n",
       "4 -0.543498  2.671925  2.329128  0.374277  "
      ]
     },
     "execution_count": 22,
     "metadata": {},
     "output_type": "execute_result"
    }
   ],
   "source": [
    "dfcombined_1.head()"
   ]
  },
  {
   "cell_type": "code",
   "execution_count": 27,
   "metadata": {},
   "outputs": [
    {
     "name": "stdout",
     "output_type": "stream",
     "text": [
      "Error rate: 0.15008443317849296 %\n"
     ]
    }
   ],
   "source": [
    "X_train, X_test, y_train, y_test = train_test_split(dfcombined_1, train_all_data['formation_energy_ev_natom'], test_size = 0.30, random_state=1)\n",
    "rf_c2 = RandomForestRegressor(n_estimators=1000, random_state=2).fit(X_train, y_train)\n",
    "y_pred = rf_c2.predict(X_test)\n",
    "print(\"Error rate:\", ((mean_squared_error(y_test, y_pred)*100)), \"%\")"
   ]
  },
  {
   "cell_type": "code",
   "execution_count": null,
   "metadata": {},
   "outputs": [],
   "source": []
  }
 ],
 "metadata": {
  "interpreter": {
   "hash": "e1192af5e217a5eade3651f7d91eac2155152d0a081ef6ccfe585b9fffeb7a34"
  },
  "kernelspec": {
   "display_name": "Python 3.7.11 64-bit ('ml_project': conda)",
   "name": "python3"
  },
  "language_info": {
   "codemirror_mode": {
    "name": "ipython",
    "version": 3
   },
   "file_extension": ".py",
   "mimetype": "text/x-python",
   "name": "python",
   "nbconvert_exporter": "python",
   "pygments_lexer": "ipython3",
   "version": "3.7.11"
  },
  "orig_nbformat": 4
 },
 "nbformat": 4,
 "nbformat_minor": 2
}
