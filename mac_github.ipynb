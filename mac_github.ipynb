{
 "cells": [
  {
   "cell_type": "code",
   "execution_count": 6,
   "source": [
    "\n",
    "import numpy as np\n",
    "import pandas as pd\n",
    "import random\n",
    "from sklearn.decomposition import PCA\n",
    "\n",
    "from modules.preprocessing import PrePro\n",
    "# from modules.preprocessing import atom_list\n",
    "from modules.data_processing import make_Xy, post_process, RMSLE\n",
    "\n",
    "from sklearn.svm import SVR \n",
    "import xgboost"
   ],
   "outputs": [],
   "metadata": {}
  },
  {
   "cell_type": "code",
   "execution_count": 3,
   "source": [
    "prepro = PrePro()\n",
    "\n",
    "# Now generate cubes\n",
    "cube_list = []\n",
    "\n",
    "# generate cubes from train\n",
    "for i in range(2400):\n",
    "    if i % 100 == 0:\n",
    "        print(i, '/', 2400)\n",
    "    filename = \"./nomad2018-predict-transparent-conductors/train/{}/geometry.xyz\".format(i+1)\n",
    "    cube = prepro.make_cube(filename)\n",
    "    \n",
    "    cube_list.append(cube)\n",
    "\n",
    "# generate cubes from test\n",
    "for i in range(600):\n",
    "    if i % 100 == 0:\n",
    "        print(i, '/', 600)    \n",
    "    filename = \"./nomad2018-predict-transparent-conductors/test/{}/geometry.xyz\".format(i+1)\n",
    "    cube = prepro.make_cube(filename)\n",
    "    \n",
    "    cube_list.append(cube)\n",
    "    \n",
    "# save cube\n",
    "cube = np.array(cube_list)\n",
    "np.save(\"./nomad2018-predict-transparent-conductors/cube.npy\", cube)\n",
    "\n",
    "# perform PCA, and keep only 100 principal components for SVR\n",
    "cube_vec = np.reshape(cube, (3000, -1))\n",
    "pca = PCA(n_components=100)\n",
    "pca.fit(cube_vec)\n",
    "\n",
    "cube_PCA = np.linalg.lstsq(pca.components_.transpose()[:,:100], (cube_vec-pca.mean_).transpose())\n",
    "np.save('./nomad2018-predict-transparent-conductors/cube_PCA.npy', cube_PCA[0])"
   ],
   "outputs": [
    {
     "output_type": "stream",
     "name": "stdout",
     "text": [
      "0 / 2400\n",
      "100 / 2400\n",
      "200 / 2400\n",
      "300 / 2400\n",
      "400 / 2400\n",
      "500 / 2400\n",
      "600 / 2400\n",
      "700 / 2400\n",
      "800 / 2400\n",
      "900 / 2400\n",
      "1000 / 2400\n",
      "1100 / 2400\n",
      "1200 / 2400\n",
      "1300 / 2400\n",
      "1400 / 2400\n",
      "1500 / 2400\n",
      "1600 / 2400\n",
      "1700 / 2400\n",
      "1800 / 2400\n",
      "1900 / 2400\n",
      "2000 / 2400\n",
      "2100 / 2400\n",
      "2200 / 2400\n",
      "2300 / 2400\n",
      "0 / 600\n",
      "100 / 600\n",
      "200 / 600\n",
      "300 / 600\n",
      "400 / 600\n",
      "500 / 600\n"
     ]
    },
    {
     "output_type": "stream",
     "name": "stderr",
     "text": [
      "/Users/simritajanakiraman/opt/anaconda3/envs/ml_project/lib/python3.7/site-packages/ipykernel_launcher.py:33: FutureWarning: `rcond` parameter will change to the default of machine precision times ``max(M, N)`` where M and N are the input matrix dimensions.\n",
      "To use the future default and silence this warning we advise to pass `rcond=None`, to keep using the old, explicitly pass `rcond=-1`.\n"
     ]
    }
   ],
   "metadata": {}
  },
  {
   "cell_type": "code",
   "execution_count": 7,
   "source": [
    "# get data from csv\n",
    "X, y, Xsub, id_sub = make_Xy()\n",
    "\n",
    "# add cube_PCA to X and Xsub\n",
    "cube_PCA = np.load('./nomad2018-predict-transparent-conductors/cube_PCA.npy').transpose()\n",
    "cube_PCA = cube_PCA / np.max(cube_PCA)\n",
    "\n",
    "X = np.hstack((X, cube_PCA[:2400, ]))\n",
    "Xsub = np.hstack((Xsub, cube_PCA[-600:, ]))"
   ],
   "outputs": [],
   "metadata": {}
  },
  {
   "cell_type": "code",
   "execution_count": 9,
   "source": [
    "dimX = X.shape[1]\n",
    "N = X.shape[0]\n",
    "\n",
    "C_list = [1.0 * 1.5**p for p in range(8,11)]\n",
    "epsilon_list = [0.1 * 1.5**p for p in range(-8,-3)]\n",
    "gamma_list = [1.0 * 1.5**p for p in range(0,5)]\n",
    "\n",
    "error0 = {}\n",
    "error1 = {}\n",
    "current_min  = np.inf\n",
    "\n",
    "while len(error0) < 15:\n",
    "    C = np.random.choice(C_list)\n",
    "    epsilon = np.random.choice(epsilon_list)\n",
    "    gamma = np.random.choice(gamma_list)\n",
    "    \n",
    "    t = (C, epsilon, gamma)\n",
    "    if t in error0:\n",
    "        continue\n",
    " \n",
    "    pred = np.tile(np.nan, (N,2))\n",
    "    for iCV in range(5):\n",
    "        ind_test = np.tile(False, N)\n",
    "        ind_test[iCV::5] = True\n",
    "\n",
    "        X_train, y_train = X[~ind_test, :], y[~ind_test, :]\n",
    "        X_test, y_test = X[ind_test, :], y[ind_test, :]\n",
    "\n",
    "        y_train = np.log(1+y_train)\n",
    "\n",
    "        clf0 = SVR(C=C, epsilon=epsilon, gamma=gamma/float(dimX), kernel='rbf')\n",
    "        clf0.fit(X_train, y_train[:, 0])\n",
    "\n",
    "        clf1 = SVR(C=C, epsilon=epsilon, gamma=gamma/float(dimX), kernel='rbf')\n",
    "        clf1.fit(X_train, y_train[:, 1])\n",
    "\n",
    "        pred[ind_test, 0] = clf0.predict(X_test)\n",
    "        pred[ind_test, 1] = clf1.predict(X_test)\n",
    "    \n",
    "    # post process\n",
    "    pred = post_process(pred)\n",
    "    \n",
    "    error0[t], error1[t] = RMSLE(y, pred)\n",
    "    current_min = 0.5*(min(error0.values()) + min(error1.values()))\n",
    "\n",
    "    print(\"trial\", len(error0), \" - \", \"current min\", '{0:.4f}'.format(current_min))"
   ],
   "outputs": [
    {
     "output_type": "stream",
     "name": "stdout",
     "text": [
      "trial 1  -  current min 0.0528\n",
      "trial 2  -  current min 0.0528\n",
      "trial 3  -  current min 0.0528\n",
      "trial 4  -  current min 0.0528\n",
      "trial 5  -  current min 0.0528\n",
      "trial 6  -  current min 0.0528\n",
      "trial 7  -  current min 0.0528\n",
      "trial 8  -  current min 0.0528\n",
      "trial 9  -  current min 0.0528\n",
      "trial 10  -  current min 0.0528\n",
      "trial 11  -  current min 0.0528\n",
      "trial 12  -  current min 0.0528\n",
      "trial 13  -  current min 0.0528\n",
      "trial 14  -  current min 0.0528\n",
      "trial 15  -  current min 0.0528\n"
     ]
    }
   ],
   "metadata": {}
  },
  {
   "cell_type": "code",
   "execution_count": 10,
   "source": [
    "# get best hyperparameters for each output\n",
    "(C0, epsilon0, gamma0) = min(error0, key=error0.get) \n",
    "(C1, epsilon1, gamma1) = min(error1, key=error1.get) \n",
    "\n",
    "# train SVR\n",
    "#clf0 = SVR(C=C0, epsilon=epsilon0, gamma=gamma0/float(dimX), kernel='rbf')\n",
    "clf0 = xgboost.XGBRegressor(n_estimators=1000, max_depth=7, eta=0.1, subsample=0.7, colsample_bytree=0.8)\n",
    "clf0.fit(X, np.log(1+y[:, 0]) )\n",
    "\n",
    "#clf1 = SVR(C=C1, epsilon=epsilon1, gamma=gamma1/float(dimX), kernel='rbf')\n",
    "clf1 = xgboost.XGBRegressor(n_estimators=1000, max_depth=7, eta=0.1, subsample=0.7, colsample_bytree=0.8)\n",
    "clf1.fit(X, np.log(1+y[:, 1]) )\n",
    "\n",
    "# predict submission samples\n",
    "ysub0 = clf0.predict(Xsub)\n",
    "ysub1 = clf1.predict(Xsub)\n",
    "\n",
    "# post process\n",
    "ysub0 = post_process(ysub0)\n",
    "ysub1 = post_process(ysub1)    \n",
    "\n",
    "# write submission\n",
    "submission = pd.concat([pd.DataFrame(id_sub), pd.DataFrame(ysub0), pd.DataFrame(ysub1)], axis=1)\n",
    "submission.columns = ['id','formation_energy_ev_natom', 'bandgap_energy_ev']\n",
    "submission.to_csv('submission_xgboost.csv', index = False)"
   ],
   "outputs": [],
   "metadata": {}
  },
  {
   "cell_type": "code",
   "execution_count": null,
   "source": [],
   "outputs": [],
   "metadata": {}
  }
 ],
 "metadata": {
  "interpreter": {
   "hash": "bb21279069a48e6b7942caa0f69c913099dfcef7f057ff024f6b8dcc79c52f73"
  },
  "kernelspec": {
   "display_name": "Python 3.7.11 ('ml_project')",
   "language": "python",
   "name": "python3"
  },
  "language_info": {
   "codemirror_mode": {
    "name": "ipython",
    "version": 3
   },
   "file_extension": ".py",
   "mimetype": "text/x-python",
   "name": "python",
   "nbconvert_exporter": "python",
   "pygments_lexer": "ipython3",
   "version": "3.7.11"
  },
  "orig_nbformat": 4
 },
 "nbformat": 4,
 "nbformat_minor": 2
}