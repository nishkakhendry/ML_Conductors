{
 "cells": [
  {
   "cell_type": "code",
   "execution_count": 1,
   "source": [
    "import pandas as pd\n",
    "from ase.visualize import view as view_molecule\n",
    "from ase.io import read as read_molecule\n",
    "import ase\n",
    "import numpy as np\n",
    "import random\n",
    "import networkx as nx\n",
    "import walker\n",
    "\n",
    "\n",
    "from ase.cell import Cell\n",
    "from dscribe.descriptors import CoulombMatrix, SineMatrix, EwaldSumMatrix, SOAP\n",
    "\n",
    "from sklearn.preprocessing import StandardScaler\n",
    "from sklearn.decomposition import PCA\n",
    "import matplotlib.pyplot as plt\n",
    "import numpy.linalg as LA\n",
    "from sklearn.linear_model import LinearRegression\n",
    "from numpy.linalg import inv\n",
    "import seaborn as sns\n",
    "from ase.geometry.analysis import Analysis\n",
    "\n",
    "import warnings\n",
    "\n",
    "warnings.filterwarnings('ignore')"
   ],
   "outputs": [],
   "metadata": {}
  },
  {
   "cell_type": "code",
   "execution_count": 2,
   "source": [
    "DATA_PATH = './nomad2018-predict-transparent-conductors'"
   ],
   "outputs": [],
   "metadata": {}
  },
  {
   "cell_type": "code",
   "execution_count": 3,
   "source": [
    "train_data = pd.read_csv(f'{DATA_PATH}/train.csv')\n",
    "test_data = pd.read_csv(f'{DATA_PATH}/test.csv')"
   ],
   "outputs": [],
   "metadata": {}
  },
  {
   "cell_type": "code",
   "execution_count": 4,
   "source": [
    "def get_xyz_data(filename):\n",
    "    pos_data = []\n",
    "    lat_data = []\n",
    "    with open(filename) as f:\n",
    "        for line in f.readlines():\n",
    "            x = line.split()\n",
    "            noise = np.array(\n",
    "                [random.random()*0.001, random.random()*0.001, random.random()*0.001])\n",
    "            if x[0] == 'atom':\n",
    "                pos_data.append([np.array(x[1:4], dtype=float)+noise, x[4]])\n",
    "            elif x[0] == 'lattice_vector':\n",
    "                lat_data.append(np.array(x[1:4], dtype=float))\n",
    "    return pos_data, np.array(lat_data)\n",
    "\n"
   ],
   "outputs": [],
   "metadata": {}
  },
  {
   "cell_type": "code",
   "execution_count": 5,
   "source": [
    "def length(v):\n",
    "    return np.linalg.norm(v)\n",
    "\n",
    "def unit_vector(vector):\n",
    "    return vector / length(vector)\n",
    "\n",
    "def angle_between(v1, v2):\n",
    "    v1_u = unit_vector(v1)\n",
    "    v2_u = unit_vector(v2)\n",
    "    return np.arccos(np.clip(np.dot(v1_u, v2_u), -1.0, 1.0))\n",
    "\n",
    "def angle_deg_between(v1, v2):\n",
    "    return np.degrees(angle_between(v1, v2))\n",
    "\n",
    "def get_lattice_constants(lattice_vectors):\n",
    "    lat_const_series = pd.Series()\n",
    "    for i in range(3):\n",
    "        lat_const_series[\"lattice_vector_\"+str(i+1)+\"_ang\"] = length(lattice_vectors[i])\n",
    "    lat_const_series[\"lattice_angle_alpha_degree\"] = angle_deg_between(lattice_vectors[1],lattice_vectors[2])\n",
    "    lat_const_series[\"lattice_angle_beta_degree\"] = angle_deg_between(lattice_vectors[2],lattice_vectors[0])\n",
    "    lat_const_series[\"lattice_angle_gamma_degree\"] = angle_deg_between(lattice_vectors[0],lattice_vectors[1])\n",
    "    return lat_const_series"
   ],
   "outputs": [],
   "metadata": {}
  },
  {
   "cell_type": "code",
   "execution_count": 6,
   "source": [
    "pos_data, lattice_vec_data = get_xyz_data(f'{DATA_PATH}/train/1/geometry.xyz')\n",
    "atoms = [ase.Atom(symbol=sym, position=pos) for pos, sym in pos_data]\n",
    "mol = ase.Atoms(atoms)\n",
    "mol.set_cell(Cell(lattice_vec_data))"
   ],
   "outputs": [],
   "metadata": {}
  },
  {
   "cell_type": "code",
   "execution_count": 7,
   "source": [
    "A = np.transpose(lattice_vec_data)\n",
    "R = lattice_vec_data[0][0]\n",
    "print(\"The lattice vectors:\")\n",
    "print(A)\n",
    "print(\"The position vector:\")\n",
    "print(R)"
   ],
   "outputs": [
    {
     "output_type": "stream",
     "name": "stdout",
     "text": [
      "The lattice vectors:\n",
      "[[ 9.95208772e+00  4.03159900e-02  3.16403800e-02]\n",
      " [-4.72482400e-02  8.55117485e+00  9.66592000e-03]\n",
      " [-3.46579300e-02 -9.53377000e-03  9.17743912e+00]]\n",
      "The position vector:\n",
      "9.95208772\n"
     ]
    }
   ],
   "metadata": {}
  },
  {
   "cell_type": "code",
   "execution_count": 8,
   "source": [
    "B = inv(A)\n",
    "print(\"The reciprocal lattice vectors:\")\n",
    "print(B)"
   ],
   "outputs": [
    {
     "output_type": "stream",
     "name": "stdout",
     "text": [
      "The reciprocal lattice vectors:\n",
      "[[ 0.10047797 -0.00047411 -0.00034591]\n",
      " [ 0.00055475  0.11694024 -0.00012508]\n",
      " [ 0.00038002  0.00011969  0.10896142]]\n"
     ]
    }
   ],
   "metadata": {}
  },
  {
   "cell_type": "code",
   "execution_count": 9,
   "source": [
    "def get_shortest_distances(reduced_coords, amat):\n",
    "    natom = len(reduced_coords)\n",
    "    dists = np.zeros((natom, natom))\n",
    "    Rij_min = np.zeros((natom, natom, 3))\n",
    "\n",
    "    for i in range(natom):\n",
    "        for j in range(i):\n",
    "            rij = reduced_coords[i][0] - reduced_coords[j][0]\n",
    "            d_min = np.inf\n",
    "            R_min = np.zeros(3)\n",
    "            for l in range(-1, 2):\n",
    "                for m in range(-1, 2):\n",
    "                    for n in range(-1, 2):\n",
    "                        r = rij + np.array([l, m, n])\n",
    "                        R = np.matmul(amat, r)\n",
    "                        d = length(R)\n",
    "                        if d < d_min:\n",
    "                            d_min = d\n",
    "                            R_min = R\n",
    "            dists[i, j] = d_min\n",
    "            dists[j, i] = dists[i, j]\n",
    "            Rij_min[i, j] = R_min\n",
    "            Rij_min[j, i] = -Rij_min[i, j]\n",
    "    return dists, Rij_min"
   ],
   "outputs": [],
   "metadata": {}
  },
  {
   "cell_type": "code",
   "execution_count": 10,
   "source": [
    "crystal_red = [[np.matmul(B, R), symbol] for (R, symbol) in pos_data]\n",
    "crystal_dist, crystal_Rij = get_shortest_distances(crystal_red, A)"
   ],
   "outputs": [],
   "metadata": {}
  },
  {
   "cell_type": "code",
   "execution_count": 11,
   "source": [
    "sns.heatmap(crystal_dist)"
   ],
   "outputs": [
    {
     "output_type": "execute_result",
     "data": {
      "text/plain": [
       "<AxesSubplot:>"
      ]
     },
     "metadata": {},
     "execution_count": 11
    },
    {
     "output_type": "display_data",
     "data": {
      "image/png": "[encoded data removed]",
      "text/plain": [
       "<Figure size 432x288 with 2 Axes>"
      ]
     },
     "metadata": {
      "needs_background": "light"
     }
    }
   ],
   "metadata": {}
  },
  {
   "cell_type": "code",
   "execution_count": 12,
   "source": [
    "natom = len(crystal_red)\n",
    "al_atoms = [i for i in range(natom) if crystal_red[i][1] == 'Al']\n",
    "ga_atoms = [i for i in range(natom) if crystal_red[i][1] == 'Ga']\n",
    "in_atoms = [i for i in range(natom) if crystal_red[i][1] == 'In']\n",
    "o_atoms = [i for i in range(natom) if crystal_red[i][1] == 'O']"
   ],
   "outputs": [],
   "metadata": {}
  },
  {
   "cell_type": "code",
   "execution_count": 13,
   "source": [
    "def get_distances(r, amat, l_max=3, m_max=3, n_max=3, R_max=20.0):\n",
    "    distances = []\n",
    "    for l in range(-l_max, l_max+1):\n",
    "        for m in range(-m_max, m_max+1):\n",
    "            for n in range(-n_max, n_max+1):\n",
    "                R = np.matmul(amat, r + np.array([l, m, n]))\n",
    "                d = length(R)\n",
    "                if d < R_max:\n",
    "                    distances.append(d)\n",
    "                    \n",
    "    return distances"
   ],
   "outputs": [],
   "metadata": {}
  },
  {
   "cell_type": "code",
   "execution_count": 14,
   "source": [
    "def get_optimal_lmn(bmat, R_max=20.0):\n",
    "    lmn = dict()\n",
    "    lmn[\"l_max\"] = int(length(bmat[0]) * R_max) + 1\n",
    "    lmn[\"m_max\"] = int(length(bmat[1]) * R_max) + 1\n",
    "    lmn[\"n_max\"] = int(length(bmat[2]) * R_max) + 1\n",
    "    lmn[\"R_max\"] = R_max\n",
    "\n",
    "    return lmn\n",
    "\n",
    "opt_lmn = get_optimal_lmn(B)\n",
    "\n",
    "print(opt_lmn)\n"
   ],
   "outputs": [
    {
     "output_type": "stream",
     "name": "stdout",
     "text": [
      "{'l_max': 3, 'm_max': 3, 'n_max': 3, 'R_max': 20.0}\n"
     ]
    }
   ],
   "metadata": {}
  },
  {
   "cell_type": "code",
   "execution_count": 15,
   "source": [
    "natom = len(crystal_red)\n",
    "m_atoms = [i for i in range(natom) if crystal_red[i][1] != 'O']\n",
    "o_atoms = [i for i in range(natom) if crystal_red[i][1] == 'O']\n",
    "\n",
    "m_o_distances = []\n",
    "for i in m_atoms:\n",
    "    for j in o_atoms:\n",
    "        rij = np.matmul(B, crystal_Rij[i, j])\n",
    "        m_o_distances += get_distances(rij, A, **opt_lmn)"
   ],
   "outputs": [],
   "metadata": {}
  },
  {
   "cell_type": "code",
   "execution_count": 16,
   "source": [
    "plt.hist(m_o_distances, bins=100, range=(0, 20))"
   ],
   "outputs": [
    {
     "output_type": "execute_result",
     "data": {
      "text/plain": [
       "(array([   0.,    0.,    0.,    0.,    0.,    0.,    0.,    0.,   16.,\n",
       "          96.,   48.,   16.,    0.,    0.,    0.,   16.,   64.,  133.,\n",
       "          99.,   24.,   24.,   96.,  282.,  182.,   24.,   48.,   96.,\n",
       "         110.,   67.,  183.,  352.,  232.,  144.,  344.,  184.,  208.,\n",
       "         328.,  274.,  189.,  322.,  247.,  352.,  365.,  329.,  455.,\n",
       "         443.,  686.,  450.,  264.,  392.,  472.,  480.,  594.,  633.,\n",
       "         789.,  464.,  432.,  656.,  785.,  887.,  836.,  572.,  664.,\n",
       "         665.,  834.,  906.,  835.,  999., 1137.,  788., 1019., 1049.,\n",
       "        1134.,  938., 1032.,  992., 1110., 1439., 1276., 1184., 1207.,\n",
       "        1191., 1564., 1623., 1337., 1186., 1236., 1442., 1935., 1718.,\n",
       "        1381., 1742., 1733., 1672., 1655., 1911., 2045., 1829., 1659.,\n",
       "        1895.]),\n",
       " array([ 0. ,  0.2,  0.4,  0.6,  0.8,  1. ,  1.2,  1.4,  1.6,  1.8,  2. ,\n",
       "         2.2,  2.4,  2.6,  2.8,  3. ,  3.2,  3.4,  3.6,  3.8,  4. ,  4.2,\n",
       "         4.4,  4.6,  4.8,  5. ,  5.2,  5.4,  5.6,  5.8,  6. ,  6.2,  6.4,\n",
       "         6.6,  6.8,  7. ,  7.2,  7.4,  7.6,  7.8,  8. ,  8.2,  8.4,  8.6,\n",
       "         8.8,  9. ,  9.2,  9.4,  9.6,  9.8, 10. , 10.2, 10.4, 10.6, 10.8,\n",
       "        11. , 11.2, 11.4, 11.6, 11.8, 12. , 12.2, 12.4, 12.6, 12.8, 13. ,\n",
       "        13.2, 13.4, 13.6, 13.8, 14. , 14.2, 14.4, 14.6, 14.8, 15. , 15.2,\n",
       "        15.4, 15.6, 15.8, 16. , 16.2, 16.4, 16.6, 16.8, 17. , 17.2, 17.4,\n",
       "        17.6, 17.8, 18. , 18.2, 18.4, 18.6, 18.8, 19. , 19.2, 19.4, 19.6,\n",
       "        19.8, 20. ]),\n",
       " <BarContainer object of 100 artists>)"
      ]
     },
     "metadata": {},
     "execution_count": 16
    },
    {
     "output_type": "display_data",
     "data": {
      "image/png": "[encoded data removed]",
      "text/plain": [
       "<Figure size 432x288 with 1 Axes>"
      ]
     },
     "metadata": {
      "needs_background": "light"
     }
    }
   ],
   "metadata": {}
  },
  {
   "cell_type": "markdown",
   "source": [
    "# Graph\n",
    "ngrams are walks of length n\n",
    "- crystal graph\n",
    "- path graph"
   ],
   "metadata": {}
  },
  {
   "cell_type": "code",
   "execution_count": 17,
   "source": [
    "analysis = Analysis(mol)"
   ],
   "outputs": [],
   "metadata": {}
  },
  {
   "cell_type": "code",
   "execution_count": 18,
   "source": [
    "analysis.all_bonds[0]"
   ],
   "outputs": [
    {
     "output_type": "execute_result",
     "data": {
      "text/plain": [
       "[[6, 38, 62],\n",
       " [39, 56, 63],\n",
       " [4, 36, 59, 60],\n",
       " [5, 37, 61],\n",
       " [2, 34, 58, 60],\n",
       " [3, 35, 44, 59, 61],\n",
       " [0, 32, 47, 56, 62],\n",
       " [33, 57, 63],\n",
       " [48, 54],\n",
       " [44, 49, 55],\n",
       " [12, 13, 20, 21, 35, 36, 47, 50, 52, 76],\n",
       " [13, 21, 37, 51, 53, 77],\n",
       " [10, 34, 36, 40, 52],\n",
       " [10, 11, 35, 37, 41, 50, 53],\n",
       " [32, 38],\n",
       " [33, 39],\n",
       " [64],\n",
       " [65, 72],\n",
       " [56, 66, 75],\n",
       " [57, 67],\n",
       " [10, 34, 46, 52, 62, 68, 76],\n",
       " [10, 11, 35, 47, 53, 63, 69, 77],\n",
       " [32, 70, 78],\n",
       " [33, 71, 79],\n",
       " [30, 31, 40, 50, 52, 64, 70, 72],\n",
       " [31, 41, 51, 53, 65, 71, 73],\n",
       " [28, 42, 48, 54, 66, 68, 74],\n",
       " [28, 29, 43, 49, 55, 67, 69, 75],\n",
       " [26, 27, 44, 49, 54, 66, 69, 76],\n",
       " [27, 45, 55, 67, 77],\n",
       " [24, 46, 52, 64, 78],\n",
       " [24, 25, 47, 50, 53, 65, 70, 79],\n",
       " [6, 14, 22],\n",
       " [7, 15, 23],\n",
       " [4, 12, 20],\n",
       " [5, 10, 13, 21],\n",
       " [2, 10, 12],\n",
       " [3, 11, 13],\n",
       " [0, 14],\n",
       " [1, 15],\n",
       " [12, 24],\n",
       " [13, 25],\n",
       " [26],\n",
       " [27],\n",
       " [5, 9, 28],\n",
       " [29],\n",
       " [20, 30],\n",
       " [6, 10, 21, 31],\n",
       " [8, 26],\n",
       " [9, 27, 28],\n",
       " [10, 13, 24, 31],\n",
       " [11, 25],\n",
       " [10, 12, 20, 24, 30],\n",
       " [11, 13, 21, 25, 31],\n",
       " [8, 26, 28],\n",
       " [9, 27, 29],\n",
       " [1, 6, 18],\n",
       " [7, 19],\n",
       " [4],\n",
       " [2, 5],\n",
       " [2, 4],\n",
       " [3, 5],\n",
       " [0, 6, 20],\n",
       " [1, 7, 21],\n",
       " [16, 24, 30],\n",
       " [17, 25, 31],\n",
       " [18, 26, 28],\n",
       " [19, 27, 29],\n",
       " [20, 26],\n",
       " [21, 27, 28],\n",
       " [22, 24, 31],\n",
       " [23, 25],\n",
       " [17, 24],\n",
       " [25],\n",
       " [26],\n",
       " [18, 27],\n",
       " [10, 20, 28],\n",
       " [11, 21, 29],\n",
       " [22, 30],\n",
       " [23, 31]]"
      ]
     },
     "metadata": {},
     "execution_count": 18
    }
   ],
   "metadata": {}
  },
  {
   "cell_type": "code",
   "execution_count": 19,
   "source": [
    "mol.get_atomic_numbers()"
   ],
   "outputs": [
    {
     "output_type": "execute_result",
     "data": {
      "text/plain": [
       "array([31, 13, 13, 31, 31, 13, 13, 13, 13, 31, 31, 13, 13, 31, 13, 31, 31,\n",
       "       13, 31, 13, 31, 13, 13, 13, 31, 13, 13, 13, 13, 31, 13, 13,  8,  8,\n",
       "        8,  8,  8,  8,  8,  8,  8,  8,  8,  8,  8,  8,  8,  8,  8,  8,  8,\n",
       "        8,  8,  8,  8,  8,  8,  8,  8,  8,  8,  8,  8,  8,  8,  8,  8,  8,\n",
       "        8,  8,  8,  8,  8,  8,  8,  8,  8,  8,  8,  8])"
      ]
     },
     "metadata": {},
     "execution_count": 19
    }
   ],
   "metadata": {}
  },
  {
   "cell_type": "code",
   "execution_count": 20,
   "source": [
    "mol.symbols.index('Al')"
   ],
   "outputs": [
    {
     "output_type": "execute_result",
     "data": {
      "text/plain": [
       "1"
      ]
     },
     "metadata": {},
     "execution_count": 20
    }
   ],
   "metadata": {}
  },
  {
   "cell_type": "code",
   "execution_count": 21,
   "source": [
    "G = nx.Graph()\n",
    "# nodes\n",
    "nodes = []\n",
    "for i, atom in enumerate(mol.symbols):\n",
    "    nodes.append((i,{'name':atom}))\n",
    "G.add_nodes_from(nodes)\n",
    "# edges\n",
    "edges = []\n",
    "for i, bonds in enumerate(Analysis(mol).all_bonds[0]):\n",
    "    for b in bonds:\n",
    "        edges.append((i,b))\n",
    "\n",
    "G.add_edges_from(edges)\n"
   ],
   "outputs": [],
   "metadata": {}
  },
  {
   "cell_type": "code",
   "execution_count": 22,
   "source": [
    "print(G)"
   ],
   "outputs": [
    {
     "output_type": "stream",
     "name": "stdout",
     "text": [
      "Graph with 80 nodes and 137 edges\n"
     ]
    }
   ],
   "metadata": {}
  },
  {
   "cell_type": "code",
   "execution_count": 23,
   "source": [
    "nx.draw(G)"
   ],
   "outputs": [
    {
     "output_type": "display_data",
     "data": {
      "image/png": "[encoded data removed]",
      "text/plain": [
       "<Figure size 432x288 with 1 Axes>"
      ]
     },
     "metadata": {}
    }
   ],
   "metadata": {}
  },
  {
   "cell_type": "code",
   "execution_count": 25,
   "source": [
    "walker.random_walks(G, n_walks=15, walk_len=10)"
   ],
   "outputs": [
    {
     "output_type": "stream",
     "name": "stdout",
     "text": [
      "Random walks - T=0.01s\n"
     ]
    },
    {
     "output_type": "execute_result",
     "data": {
      "text/plain": [
       "array([[ 0, 38,  0, ..., 20, 52, 10],\n",
       "       [ 1, 63,  7, ..., 67, 29, 67],\n",
       "       [ 2, 59,  5, ...,  5, 35, 13],\n",
       "       ...,\n",
       "       [77, 29, 77, ..., 19, 67, 19],\n",
       "       [78, 22, 78, ..., 16, 64, 24],\n",
       "       [79, 23, 71, ..., 63,  1, 56]], dtype=uint32)"
      ]
     },
     "metadata": {},
     "execution_count": 25
    }
   ],
   "metadata": {}
  }
 ],
 "metadata": {
  "orig_nbformat": 4,
  "language_info": {
   "name": "python",
   "version": "3.7.12",
   "mimetype": "text/x-python",
   "codemirror_mode": {
    "name": "ipython",
    "version": 3
   },
   "pygments_lexer": "ipython3",
   "nbconvert_exporter": "python",
   "file_extension": ".py"
  },
  "kernelspec": {
   "name": "python3",
   "display_name": "Python 3.7.12 64-bit ('ml_project': conda)"
  },
  "interpreter": {
   "hash": "57878c180c9b27ff6feee091cc910bd21e5a74eaa63329fd7bd5866af7456fcd"
  }
 },
 "nbformat": 4,
 "nbformat_minor": 2
}