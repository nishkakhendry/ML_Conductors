{
 "cells": [
  {
   "cell_type": "code",
   "execution_count": 26,
   "metadata": {},
   "outputs": [],
   "source": [
    "import os\n",
    "import numpy as np\n",
    "import pandas as pd\n",
    "import random\n",
    "from sklearn.decomposition import PCA\n",
    "# from modules.preprocessing import make_cube, get_pos_lattice\n",
    "# from modules.preprocessing import atom_list\n",
    "\n",
    "from sklearn.preprocessing import LabelEncoder\n",
    "from sklearn.preprocessing import OneHotEncoder\n",
    "# from modules.data_processing import make_Xy, post_process, RMSLE\n",
    "import xgboost\n",
    "from sklearn.svm import SVR \n",
    "from sklearn.model_selection import GridSearchCV\n",
    "from sklearn.metrics import make_scorer\n",
    "from sklearn.kernel_ridge import KernelRidge\n",
    "from sklearn.gaussian_process import GaussianProcessRegressor\n",
    "# import lightgbm as lgb\n",
    "from modules.preprocessing import PrePro\n",
    "\n",
    "\n",
    "from sklearn.linear_model import LinearRegression\n",
    "from sklearn.ensemble import RandomForestRegressor\n",
    "from sklearn.linear_model import Ridge\n",
    "from sklearn.linear_model import Lasso\n",
    "from sklearn.svm import SVR\n",
    "from sklearn.model_selection import GridSearchCV\n",
    "import xgboost\n",
    "from sklearn.preprocessing import FunctionTransformer\n",
    "from sklearn.preprocessing import PowerTransformer\n",
    "\n",
    "import catboost as cb\n",
    "import shap\n",
    "from sklearn.inspection import permutation_importance\n",
    "\n",
    "from sklearn.model_selection import train_test_split\n",
    "from sklearn.metrics import mean_absolute_error, accuracy_score, mean_squared_error, r2_score\n",
    "\n",
    "\n",
    "import warnings\n",
    "warnings.filterwarnings('ignore')\n"
   ]
  },
  {
   "cell_type": "code",
   "execution_count": 2,
   "metadata": {},
   "outputs": [],
   "source": [
    "DATA_PATH = './nomad2018-predict-transparent-conductors'"
   ]
  },
  {
   "cell_type": "markdown",
   "metadata": {},
   "source": [
    "# Preprocess data\n"
   ]
  },
  {
   "cell_type": "markdown",
   "metadata": {},
   "source": [
    "## Create cube"
   ]
  },
  {
   "cell_type": "code",
   "execution_count": 3,
   "metadata": {},
   "outputs": [
    {
     "name": "stdout",
     "output_type": "stream",
     "text": [
      "0 / 2400\n",
      "100 / 2400\n",
      "200 / 2400\n",
      "300 / 2400\n",
      "400 / 2400\n",
      "500 / 2400\n",
      "600 / 2400\n",
      "700 / 2400\n",
      "800 / 2400\n",
      "900 / 2400\n",
      "1000 / 2400\n",
      "1100 / 2400\n",
      "1200 / 2400\n",
      "1300 / 2400\n",
      "1400 / 2400\n",
      "1500 / 2400\n",
      "1600 / 2400\n",
      "1700 / 2400\n",
      "1800 / 2400\n",
      "1900 / 2400\n",
      "2000 / 2400\n",
      "2100 / 2400\n",
      "2200 / 2400\n",
      "2300 / 2400\n",
      "0 / 600\n",
      "100 / 600\n",
      "200 / 600\n",
      "300 / 600\n",
      "400 / 600\n",
      "500 / 600\n"
     ]
    },
    {
     "name": "stderr",
     "output_type": "stream",
     "text": [
      "C:\\Users\\nishk\\anaconda3\\envs\\ml_project\\lib\\site-packages\\ipykernel_launcher.py:32: FutureWarning: `rcond` parameter will change to the default of machine precision times ``max(M, N)`` where M and N are the input matrix dimensions.\n",
      "To use the future default and silence this warning we advise to pass `rcond=None`, to keep using the old, explicitly pass `rcond=-1`.\n"
     ]
    }
   ],
   "source": [
    "prepro = PrePro()\n",
    "\n",
    "# Now generate cubes\n",
    "cube_list = []\n",
    "\n",
    "# generate cubes from train\n",
    "for i in range(2400):\n",
    "    if i % 100 == 0:\n",
    "        print(i, '/', 2400)\n",
    "    filename = f\"{DATA_PATH}/train/{i+1}/geometry.xyz\"\n",
    "    cube = prepro.make_cube(filename)    \n",
    "    cube_list.append(cube)\n",
    "\n",
    "# generate cubes from test\n",
    "for i in range(600):\n",
    "    if i % 100 == 0:\n",
    "        print(i, '/', 600)    \n",
    "    filename = f\"{DATA_PATH}/test/{i+1}/geometry.xyz\"\n",
    "    cube = prepro.make_cube(filename)\n",
    "    \n",
    "    cube_list.append(cube)\n",
    "    \n",
    "# save cube\n",
    "cube = np.array(cube_list)\n",
    "np.save(f\"{DATA_PATH}/cube.npy\", cube)\n",
    "\n",
    "# perform PCA, and keep only 100 principal components for SVR\n",
    "cube_vec = np.reshape(cube, (3000, -1))\n",
    "pca = PCA(n_components=100)\n",
    "pca.fit(cube_vec)\n",
    "\n",
    "cube_PCA = np.linalg.lstsq(pca.components_.transpose()[:,:100], (cube_vec-pca.mean_).transpose())\n",
    "np.save(f'{DATA_PATH}/cube_PCA.npy', cube_PCA[0])"
   ]
  },
  {
   "cell_type": "markdown",
   "metadata": {},
   "source": [
    "## Build final df to train on"
   ]
  },
  {
   "cell_type": "code",
   "execution_count": 4,
   "metadata": {},
   "outputs": [
    {
     "data": {
      "text/html": [
       "<div>\n",
       "<style scoped>\n",
       "    .dataframe tbody tr th:only-of-type {\n",
       "        vertical-align: middle;\n",
       "    }\n",
       "\n",
       "    .dataframe tbody tr th {\n",
       "        vertical-align: top;\n",
       "    }\n",
       "\n",
       "    .dataframe thead th {\n",
       "        text-align: right;\n",
       "    }\n",
       "</style>\n",
       "<table border=\"1\" class=\"dataframe\">\n",
       "  <thead>\n",
       "    <tr style=\"text-align: right;\">\n",
       "      <th></th>\n",
       "      <th>id</th>\n",
       "      <th>spacegroup</th>\n",
       "      <th>number_of_total_atoms</th>\n",
       "      <th>percent_atom_al</th>\n",
       "      <th>percent_atom_ga</th>\n",
       "      <th>percent_atom_in</th>\n",
       "      <th>lattice_vector_1_ang</th>\n",
       "      <th>lattice_vector_2_ang</th>\n",
       "      <th>lattice_vector_3_ang</th>\n",
       "      <th>lattice_angle_alpha_degree</th>\n",
       "      <th>lattice_angle_beta_degree</th>\n",
       "      <th>lattice_angle_gamma_degree</th>\n",
       "      <th>formation_energy_ev_natom</th>\n",
       "      <th>bandgap_energy_ev</th>\n",
       "    </tr>\n",
       "  </thead>\n",
       "  <tbody>\n",
       "    <tr>\n",
       "      <th>0</th>\n",
       "      <td>1</td>\n",
       "      <td>33</td>\n",
       "      <td>80.0</td>\n",
       "      <td>0.6250</td>\n",
       "      <td>0.3750</td>\n",
       "      <td>0.0000</td>\n",
       "      <td>9.9523</td>\n",
       "      <td>8.5513</td>\n",
       "      <td>9.1775</td>\n",
       "      <td>90.0026</td>\n",
       "      <td>90.0023</td>\n",
       "      <td>90.0017</td>\n",
       "      <td>0.0680</td>\n",
       "      <td>3.4387</td>\n",
       "    </tr>\n",
       "    <tr>\n",
       "      <th>1</th>\n",
       "      <td>2</td>\n",
       "      <td>194</td>\n",
       "      <td>80.0</td>\n",
       "      <td>0.6250</td>\n",
       "      <td>0.3750</td>\n",
       "      <td>0.0000</td>\n",
       "      <td>6.1840</td>\n",
       "      <td>6.1838</td>\n",
       "      <td>23.6287</td>\n",
       "      <td>90.0186</td>\n",
       "      <td>89.9980</td>\n",
       "      <td>120.0025</td>\n",
       "      <td>0.2490</td>\n",
       "      <td>2.9210</td>\n",
       "    </tr>\n",
       "    <tr>\n",
       "      <th>2</th>\n",
       "      <td>3</td>\n",
       "      <td>227</td>\n",
       "      <td>40.0</td>\n",
       "      <td>0.8125</td>\n",
       "      <td>0.1875</td>\n",
       "      <td>0.0000</td>\n",
       "      <td>9.7510</td>\n",
       "      <td>5.6595</td>\n",
       "      <td>13.9630</td>\n",
       "      <td>90.9688</td>\n",
       "      <td>91.1228</td>\n",
       "      <td>30.5185</td>\n",
       "      <td>0.1821</td>\n",
       "      <td>2.7438</td>\n",
       "    </tr>\n",
       "    <tr>\n",
       "      <th>3</th>\n",
       "      <td>4</td>\n",
       "      <td>167</td>\n",
       "      <td>30.0</td>\n",
       "      <td>0.7500</td>\n",
       "      <td>0.0000</td>\n",
       "      <td>0.2500</td>\n",
       "      <td>5.0036</td>\n",
       "      <td>5.0034</td>\n",
       "      <td>13.5318</td>\n",
       "      <td>89.9888</td>\n",
       "      <td>90.0119</td>\n",
       "      <td>120.0017</td>\n",
       "      <td>0.2172</td>\n",
       "      <td>3.3492</td>\n",
       "    </tr>\n",
       "    <tr>\n",
       "      <th>4</th>\n",
       "      <td>5</td>\n",
       "      <td>194</td>\n",
       "      <td>80.0</td>\n",
       "      <td>0.0000</td>\n",
       "      <td>0.6250</td>\n",
       "      <td>0.3750</td>\n",
       "      <td>6.6614</td>\n",
       "      <td>6.6612</td>\n",
       "      <td>24.5813</td>\n",
       "      <td>89.9960</td>\n",
       "      <td>90.0006</td>\n",
       "      <td>119.9893</td>\n",
       "      <td>0.0505</td>\n",
       "      <td>1.3793</td>\n",
       "    </tr>\n",
       "    <tr>\n",
       "      <th>...</th>\n",
       "      <td>...</td>\n",
       "      <td>...</td>\n",
       "      <td>...</td>\n",
       "      <td>...</td>\n",
       "      <td>...</td>\n",
       "      <td>...</td>\n",
       "      <td>...</td>\n",
       "      <td>...</td>\n",
       "      <td>...</td>\n",
       "      <td>...</td>\n",
       "      <td>...</td>\n",
       "      <td>...</td>\n",
       "      <td>...</td>\n",
       "      <td>...</td>\n",
       "    </tr>\n",
       "    <tr>\n",
       "      <th>2995</th>\n",
       "      <td>596</td>\n",
       "      <td>12</td>\n",
       "      <td>80.0</td>\n",
       "      <td>0.0000</td>\n",
       "      <td>0.5938</td>\n",
       "      <td>0.4062</td>\n",
       "      <td>24.8145</td>\n",
       "      <td>6.3964</td>\n",
       "      <td>6.2933</td>\n",
       "      <td>90.0002</td>\n",
       "      <td>104.7733</td>\n",
       "      <td>90.0001</td>\n",
       "      <td>NaN</td>\n",
       "      <td>NaN</td>\n",
       "    </tr>\n",
       "    <tr>\n",
       "      <th>2996</th>\n",
       "      <td>597</td>\n",
       "      <td>33</td>\n",
       "      <td>40.0</td>\n",
       "      <td>0.1250</td>\n",
       "      <td>0.0000</td>\n",
       "      <td>0.8750</td>\n",
       "      <td>5.5783</td>\n",
       "      <td>9.4849</td>\n",
       "      <td>10.1107</td>\n",
       "      <td>90.0008</td>\n",
       "      <td>89.9967</td>\n",
       "      <td>90.0004</td>\n",
       "      <td>NaN</td>\n",
       "      <td>NaN</td>\n",
       "    </tr>\n",
       "    <tr>\n",
       "      <th>2997</th>\n",
       "      <td>598</td>\n",
       "      <td>194</td>\n",
       "      <td>80.0</td>\n",
       "      <td>0.0000</td>\n",
       "      <td>0.2500</td>\n",
       "      <td>0.7500</td>\n",
       "      <td>6.9377</td>\n",
       "      <td>6.9372</td>\n",
       "      <td>25.0641</td>\n",
       "      <td>90.0072</td>\n",
       "      <td>89.9880</td>\n",
       "      <td>119.9857</td>\n",
       "      <td>NaN</td>\n",
       "      <td>NaN</td>\n",
       "    </tr>\n",
       "    <tr>\n",
       "      <th>2998</th>\n",
       "      <td>599</td>\n",
       "      <td>33</td>\n",
       "      <td>40.0</td>\n",
       "      <td>0.6250</td>\n",
       "      <td>0.0000</td>\n",
       "      <td>0.3750</td>\n",
       "      <td>5.1841</td>\n",
       "      <td>8.8659</td>\n",
       "      <td>9.4956</td>\n",
       "      <td>90.0041</td>\n",
       "      <td>90.0009</td>\n",
       "      <td>90.0007</td>\n",
       "      <td>NaN</td>\n",
       "      <td>NaN</td>\n",
       "    </tr>\n",
       "    <tr>\n",
       "      <th>2999</th>\n",
       "      <td>600</td>\n",
       "      <td>206</td>\n",
       "      <td>80.0</td>\n",
       "      <td>0.3750</td>\n",
       "      <td>0.3438</td>\n",
       "      <td>0.2812</td>\n",
       "      <td>9.4959</td>\n",
       "      <td>9.4956</td>\n",
       "      <td>9.4956</td>\n",
       "      <td>90.0029</td>\n",
       "      <td>90.0031</td>\n",
       "      <td>89.9969</td>\n",
       "      <td>NaN</td>\n",
       "      <td>NaN</td>\n",
       "    </tr>\n",
       "  </tbody>\n",
       "</table>\n",
       "<p>3000 rows × 14 columns</p>\n",
       "</div>"
      ],
      "text/plain": [
       "       id  spacegroup  number_of_total_atoms  percent_atom_al  \\\n",
       "0       1          33                   80.0           0.6250   \n",
       "1       2         194                   80.0           0.6250   \n",
       "2       3         227                   40.0           0.8125   \n",
       "3       4         167                   30.0           0.7500   \n",
       "4       5         194                   80.0           0.0000   \n",
       "...   ...         ...                    ...              ...   \n",
       "2995  596          12                   80.0           0.0000   \n",
       "2996  597          33                   40.0           0.1250   \n",
       "2997  598         194                   80.0           0.0000   \n",
       "2998  599          33                   40.0           0.6250   \n",
       "2999  600         206                   80.0           0.3750   \n",
       "\n",
       "      percent_atom_ga  percent_atom_in  lattice_vector_1_ang  \\\n",
       "0              0.3750           0.0000                9.9523   \n",
       "1              0.3750           0.0000                6.1840   \n",
       "2              0.1875           0.0000                9.7510   \n",
       "3              0.0000           0.2500                5.0036   \n",
       "4              0.6250           0.3750                6.6614   \n",
       "...               ...              ...                   ...   \n",
       "2995           0.5938           0.4062               24.8145   \n",
       "2996           0.0000           0.8750                5.5783   \n",
       "2997           0.2500           0.7500                6.9377   \n",
       "2998           0.0000           0.3750                5.1841   \n",
       "2999           0.3438           0.2812                9.4959   \n",
       "\n",
       "      lattice_vector_2_ang  lattice_vector_3_ang  lattice_angle_alpha_degree  \\\n",
       "0                   8.5513                9.1775                     90.0026   \n",
       "1                   6.1838               23.6287                     90.0186   \n",
       "2                   5.6595               13.9630                     90.9688   \n",
       "3                   5.0034               13.5318                     89.9888   \n",
       "4                   6.6612               24.5813                     89.9960   \n",
       "...                    ...                   ...                         ...   \n",
       "2995                6.3964                6.2933                     90.0002   \n",
       "2996                9.4849               10.1107                     90.0008   \n",
       "2997                6.9372               25.0641                     90.0072   \n",
       "2998                8.8659                9.4956                     90.0041   \n",
       "2999                9.4956                9.4956                     90.0029   \n",
       "\n",
       "      lattice_angle_beta_degree  lattice_angle_gamma_degree  \\\n",
       "0                       90.0023                     90.0017   \n",
       "1                       89.9980                    120.0025   \n",
       "2                       91.1228                     30.5185   \n",
       "3                       90.0119                    120.0017   \n",
       "4                       90.0006                    119.9893   \n",
       "...                         ...                         ...   \n",
       "2995                   104.7733                     90.0001   \n",
       "2996                    89.9967                     90.0004   \n",
       "2997                    89.9880                    119.9857   \n",
       "2998                    90.0009                     90.0007   \n",
       "2999                    90.0031                     89.9969   \n",
       "\n",
       "      formation_energy_ev_natom  bandgap_energy_ev  \n",
       "0                        0.0680             3.4387  \n",
       "1                        0.2490             2.9210  \n",
       "2                        0.1821             2.7438  \n",
       "3                        0.2172             3.3492  \n",
       "4                        0.0505             1.3793  \n",
       "...                         ...                ...  \n",
       "2995                        NaN                NaN  \n",
       "2996                        NaN                NaN  \n",
       "2997                        NaN                NaN  \n",
       "2998                        NaN                NaN  \n",
       "2999                        NaN                NaN  \n",
       "\n",
       "[3000 rows x 14 columns]"
      ]
     },
     "execution_count": 4,
     "metadata": {},
     "output_type": "execute_result"
    }
   ],
   "source": [
    "train_all_data = pd.read_csv(f'{DATA_PATH}/train.csv')\n",
    "test_all_data = pd.read_csv(f'{DATA_PATH}/test.csv')\n",
    "\n",
    "df = pd.concat((train_all_data, test_all_data), ignore_index=True)\n",
    "df"
   ]
  },
  {
   "cell_type": "code",
   "execution_count": 5,
   "metadata": {},
   "outputs": [],
   "source": [
    "df_all = pd.DataFrame()"
   ]
  },
  {
   "cell_type": "code",
   "execution_count": 6,
   "metadata": {},
   "outputs": [],
   "source": [
    "# one-hot encoding for spacegroup\n",
    "spacegroup_labels = LabelEncoder().fit_transform(df['spacegroup'])\n",
    "spacegroup_labels = spacegroup_labels.reshape(len(spacegroup_labels), 1)\n",
    "\n",
    "spacegroup_onehot = OneHotEncoder(sparse=False).fit_transform(spacegroup_labels)"
   ]
  },
  {
   "cell_type": "code",
   "execution_count": 7,
   "metadata": {},
   "outputs": [],
   "source": [
    "df_all[['sg1','sg2','sg3','sg4','sg5','sg6']] = pd.DataFrame(spacegroup_onehot, index=df.index)\n",
    "df_all['num_in'] = df['percent_atom_in'] * df['number_of_total_atoms']\n",
    "df_all['num_ga'] = df['percent_atom_ga'] * df['number_of_total_atoms']\n",
    "df_all['num_al'] = df['percent_atom_al'] * df['number_of_total_atoms']\n",
    "\n",
    "df_all['percent_atom_in'] = df['percent_atom_in']\n",
    "df_all['percent_atom_al'] = df['percent_atom_al']\n",
    "df_all['percent_atom_ga'] = df['percent_atom_ga']\n",
    "df_all['number_of_total_atoms'] = df['number_of_total_atoms']\n",
    "\n",
    "df_all['lattice_vector_3_ang'] = df['lattice_vector_3_ang']\n",
    "df_all['lattice_vector_2_ang'] = df['lattice_vector_2_ang']\n",
    "df_all['lattice_vector_1_ang'] = df['lattice_vector_1_ang']\n",
    "df_all['lattice_angle_gamma_degree'] = df['lattice_angle_gamma_degree']\n",
    "df_all['lattice_angle_beta_degree'] = df['lattice_angle_beta_degree']\n",
    "df_all['lattice_angle_alpha_degree'] = df['lattice_angle_alpha_degree']\n",
    "\n",
    "df_all['cos3'] = np.cos(np.pi/180.0*df['lattice_angle_gamma_degree'])\n",
    "df_all['cos2'] = np.cos(np.pi/180.0*df['lattice_angle_beta_degree'])\n",
    "df_all['cos1'] = np.cos(np.pi/180.0*df['lattice_angle_alpha_degree'])\n",
    "df_all['sin3'] = np.sin(np.pi/180.0*df['lattice_angle_gamma_degree'])\n",
    "df_all['sin2'] = np.sin(np.pi/180.0*df['lattice_angle_beta_degree'])\n",
    "df_all['sin1'] = np.sin(np.pi/180.0*df['lattice_angle_alpha_degree'])\n"
   ]
  },
  {
   "cell_type": "code",
   "execution_count": 8,
   "metadata": {},
   "outputs": [],
   "source": [
    "df_all = df_all/df_all.max()"
   ]
  },
  {
   "cell_type": "code",
   "execution_count": 9,
   "metadata": {},
   "outputs": [
    {
     "name": "stderr",
     "output_type": "stream",
     "text": [
      "C:\\Users\\nishk\\anaconda3\\envs\\ml_project\\lib\\site-packages\\pandas\\core\\frame.py:3641: PerformanceWarning: DataFrame is highly fragmented.  This is usually the result of calling `frame.insert` many times, which has poor performance.  Consider joining all columns at once using pd.concat(axis=1) instead.  To get a de-fragmented frame, use `newframe = frame.copy()`\n",
      "  self[k1] = value[k2]\n"
     ]
    }
   ],
   "source": [
    "# add cube_PCA to X and Xsub\n",
    "cube_PCA = np.load('./nomad2018-predict-transparent-conductors/cube_PCA.npy').transpose()\n",
    "cube_PCA = cube_PCA / np.max(cube_PCA)\n",
    "\n",
    "df_all[[f'pca{i}' for i in range(100)]] = pd.DataFrame(cube_PCA, index=df_all.index)"
   ]
  },
  {
   "cell_type": "code",
   "execution_count": 10,
   "metadata": {},
   "outputs": [
    {
     "data": {
      "text/plain": [
       "(3000, 125)"
      ]
     },
     "execution_count": 10,
     "metadata": {},
     "output_type": "execute_result"
    }
   ],
   "source": [
    "df_all.shape"
   ]
  },
  {
   "cell_type": "code",
   "execution_count": 11,
   "metadata": {},
   "outputs": [],
   "source": [
    "df_pred_var = pd.DataFrame()\n",
    "df_pred_var['formation_energy_ev_natom'] = df['formation_energy_ev_natom']\n",
    "df_pred_var['bandgap_energy_ev'] = df['bandgap_energy_ev']"
   ]
  },
  {
   "cell_type": "code",
   "execution_count": 12,
   "metadata": {},
   "outputs": [],
   "source": [
    "traindf = df_all[~df_pred_var['formation_energy_ev_natom'].isnull()]\n",
    "traindf_pred = df_pred_var[~df_pred_var['formation_energy_ev_natom'].isnull()]\n",
    "result_cols = ['formation_energy_ev_natom','bandgap_energy_ev']\n",
    "\n",
    "X_train, y_train = traindf, traindf_pred\n",
    "\n",
    "X_test = df_all[df_pred_var['formation_energy_ev_natom'].isnull()][[c for c in traindf.columns if c not in result_cols]]"
   ]
  },
  {
   "cell_type": "markdown",
   "metadata": {},
   "source": [
    "# Gridsearch\n",
    "\n",
    "best params for both formation energy and bandgap energy"
   ]
  },
  {
   "cell_type": "code",
   "execution_count": 13,
   "metadata": {},
   "outputs": [],
   "source": [
    "def RMSLE(y, pred):\n",
    "    log_diff = (np.log(1+pred) - np.log(1+y))**2\n",
    "    return np.sqrt(log_diff.mean())\n"
   ]
  },
  {
   "cell_type": "code",
   "execution_count": 14,
   "metadata": {},
   "outputs": [],
   "source": [
    "model = xgboost.XGBRegressor()\n",
    "xgb_params={\n",
    "    'n_estimators':[500,1000,1500],\n",
    "    'max_depth':[6,7,8,9],\n",
    "    'eta':[0.1],\n",
    "    'subsample':[0.7],\n",
    "    'colsample_bytree':[0.8]\n",
    "}"
   ]
  },
  {
   "cell_type": "code",
   "execution_count": 15,
   "metadata": {},
   "outputs": [],
   "source": [
    "scorer = make_scorer(RMSLE, greater_is_better=False)"
   ]
  },
  {
   "cell_type": "code",
   "execution_count": 16,
   "metadata": {},
   "outputs": [
    {
     "data": {
      "text/plain": [
       "GridSearchCV(cv=3,\n",
       "             estimator=XGBRegressor(base_score=None, booster=None,\n",
       "                                    colsample_bylevel=None,\n",
       "                                    colsample_bynode=None,\n",
       "                                    colsample_bytree=None,\n",
       "                                    enable_categorical=False, gamma=None,\n",
       "                                    gpu_id=None, importance_type=None,\n",
       "                                    interaction_constraints=None,\n",
       "                                    learning_rate=None, max_delta_step=None,\n",
       "                                    max_depth=None, min_child_weight=None,\n",
       "                                    missing=nan, monotone_constraints=None,\n",
       "                                    n...\n",
       "                                    num_parallel_tree=None, predictor=None,\n",
       "                                    random_state=None, reg_alpha=None,\n",
       "                                    reg_lambda=None, scale_pos_weight=None,\n",
       "                                    subsample=None, tree_method=None,\n",
       "                                    validate_parameters=None, verbosity=None),\n",
       "             param_grid={'colsample_bytree': [0.8], 'eta': [0.1],\n",
       "                         'max_depth': [6, 7, 8, 9],\n",
       "                         'n_estimators': [500, 1000, 1500],\n",
       "                         'subsample': [0.7]},\n",
       "             scoring=make_scorer(RMSLE, greater_is_better=False))"
      ]
     },
     "execution_count": 16,
     "metadata": {},
     "output_type": "execute_result"
    }
   ],
   "source": [
    "f_clf = GridSearchCV(\n",
    "    model,\n",
    "    xgb_params,\n",
    "    cv=3,\n",
    "    scoring=scorer\n",
    ")\n",
    "f_clf.fit(X_train, np.log(1+y_train.iloc[:,0]))"
   ]
  },
  {
   "cell_type": "code",
   "execution_count": 17,
   "metadata": {},
   "outputs": [
    {
     "data": {
      "text/plain": [
       "{'colsample_bytree': 0.8,\n",
       " 'eta': 0.1,\n",
       " 'max_depth': 6,\n",
       " 'n_estimators': 500,\n",
       " 'subsample': 0.7}"
      ]
     },
     "execution_count": 17,
     "metadata": {},
     "output_type": "execute_result"
    }
   ],
   "source": [
    "f_clf.best_params_"
   ]
  },
  {
   "cell_type": "code",
   "execution_count": 18,
   "metadata": {},
   "outputs": [
    {
     "data": {
      "text/plain": [
       "GridSearchCV(cv=3,\n",
       "             estimator=XGBRegressor(base_score=None, booster=None,\n",
       "                                    colsample_bylevel=None,\n",
       "                                    colsample_bynode=None,\n",
       "                                    colsample_bytree=None,\n",
       "                                    enable_categorical=False, gamma=None,\n",
       "                                    gpu_id=None, importance_type=None,\n",
       "                                    interaction_constraints=None,\n",
       "                                    learning_rate=None, max_delta_step=None,\n",
       "                                    max_depth=None, min_child_weight=None,\n",
       "                                    missing=nan, monotone_constraints=None,\n",
       "                                    n...\n",
       "                                    num_parallel_tree=None, predictor=None,\n",
       "                                    random_state=None, reg_alpha=None,\n",
       "                                    reg_lambda=None, scale_pos_weight=None,\n",
       "                                    subsample=None, tree_method=None,\n",
       "                                    validate_parameters=None, verbosity=None),\n",
       "             param_grid={'colsample_bytree': [0.8], 'eta': [0.1],\n",
       "                         'max_depth': [6, 7, 8, 9],\n",
       "                         'n_estimators': [500, 1000, 1500],\n",
       "                         'subsample': [0.7]},\n",
       "             scoring=make_scorer(RMSLE, greater_is_better=False))"
      ]
     },
     "execution_count": 18,
     "metadata": {},
     "output_type": "execute_result"
    }
   ],
   "source": [
    "b_clf = GridSearchCV(\n",
    "    model,\n",
    "    xgb_params,\n",
    "    cv=3,\n",
    "    scoring=scorer\n",
    ")\n",
    "b_clf.fit(X_train, np.log(1+y_train.iloc[:,1]))"
   ]
  },
  {
   "cell_type": "code",
   "execution_count": 19,
   "metadata": {},
   "outputs": [
    {
     "data": {
      "text/plain": [
       "{'colsample_bytree': 0.8,\n",
       " 'eta': 0.1,\n",
       " 'max_depth': 6,\n",
       " 'n_estimators': 500,\n",
       " 'subsample': 0.7}"
      ]
     },
     "execution_count": 19,
     "metadata": {},
     "output_type": "execute_result"
    }
   ],
   "source": [
    "b_clf.best_params_"
   ]
  },
  {
   "cell_type": "markdown",
   "metadata": {},
   "source": [
    "# Train and make submission"
   ]
  },
  {
   "cell_type": "code",
   "execution_count": 20,
   "metadata": {},
   "outputs": [
    {
     "data": {
      "text/plain": [
       "(2400, 125)"
      ]
     },
     "execution_count": 20,
     "metadata": {},
     "output_type": "execute_result"
    }
   ],
   "source": [
    "X_train.shape"
   ]
  },
  {
   "cell_type": "code",
   "execution_count": 21,
   "metadata": {},
   "outputs": [
    {
     "data": {
      "text/plain": [
       "XGBRegressor(base_score=0.5, booster='gbtree', colsample_bylevel=1,\n",
       "             colsample_bynode=1, colsample_bytree=0.8, enable_categorical=False,\n",
       "             eta=0.1, gamma=0, gpu_id=-1, importance_type=None,\n",
       "             interaction_constraints='', learning_rate=0.100000001,\n",
       "             max_delta_step=0, max_depth=7, min_child_weight=1, missing=nan,\n",
       "             monotone_constraints='()', n_estimators=1000, n_jobs=8,\n",
       "             num_parallel_tree=1, predictor='auto', random_state=0, reg_alpha=0,\n",
       "             reg_lambda=1, scale_pos_weight=1, subsample=0.7,\n",
       "             tree_method='exact', validate_parameters=1, verbosity=None)"
      ]
     },
     "execution_count": 21,
     "metadata": {},
     "output_type": "execute_result"
    }
   ],
   "source": [
    "f_model = xgboost.XGBRegressor(\n",
    "    n_estimators = 1000,\n",
    "    max_depth=7,\n",
    "    eta=0.1, \n",
    "    subsample=0.7, \n",
    "    colsample_bytree=0.8\n",
    ")\n",
    "b_model = xgboost.XGBRegressor(\n",
    "    n_estimators = 1000,\n",
    "    max_depth=7,\n",
    "    eta=0.1, \n",
    "    subsample=0.7, \n",
    "    colsample_bytree=0.8\n",
    ")\n",
    "\n",
    "# f_model = KernelRidge(alpha=0.1, kernel='rbf')\n",
    "# b_model = KernelRidge(alpha=0.1, kernel='rbf')\n",
    "\n",
    "# f_model = GaussianProcessRegressor()\n",
    "# b_model = GaussianProcessRegressor()\n",
    "\n",
    "f_model.fit(X_train, np.log(1+y_train.iloc[:,0]))\n",
    "b_model.fit(X_train, np.log(1+y_train.iloc[:,1]))"
   ]
  },
  {
   "cell_type": "code",
   "execution_count": 22,
   "metadata": {},
   "outputs": [],
   "source": [
    "def post_process(pred):\n",
    "    \"\"\"\n",
    "        Postprocessing = undo log transform + threshold at 0\n",
    "    \"\"\"\n",
    "    pred = pred * (pred > 0)\n",
    "    pred = np.exp(pred) - 1.0\n",
    "    return pred"
   ]
  },
  {
   "cell_type": "code",
   "execution_count": 23,
   "metadata": {},
   "outputs": [],
   "source": [
    "f_submission = post_process(f_model.predict(X_test))\n",
    "b_submission = post_process(b_model.predict(X_test))\n"
   ]
  },
  {
   "cell_type": "code",
   "execution_count": 24,
   "metadata": {},
   "outputs": [],
   "source": [
    "pd.DataFrame({\n",
    "    'id': list(range(1, len(f_submission)+1)),\n",
    "    'formation_energy_ev_natom': f_submission,\n",
    "    'bandgap_energy_ev': b_submission\n",
    "}).to_csv('submissions/cube_method.csv', index=False)"
   ]
  },
  {
   "cell_type": "code",
   "execution_count": 27,
   "metadata": {},
   "outputs": [],
   "source": [
    "models = [\n",
    "    ('randomforest', RandomForestRegressor(n_estimators=150, random_state=2), RandomForestRegressor(n_estimators=150, random_state=2)),\n",
    "    ('ridge', Ridge(alpha=0.1), Ridge(alpha=0.1)),\n",
    "    ('lasso', Lasso(alpha=0, max_iter=1e5), Lasso(alpha=0, max_iter=1e5)),\n",
    "    ('linear regression', LinearRegression(),LinearRegression()),\n",
    "    ('catboost', cb.CatBoostRegressor(loss_function='RMSE', depth=10, learning_rate=0.01), cb.CatBoostRegressor(loss_function='RMSE', depth=10, learning_rate=0.01)),\n",
    "    ('xgboost', xgboost.XGBRegressor(n_estimators=1000, max_depth=7, eta=0.1, subsample=0.7, colsample_bytree=0.8), xgboost.XGBRegressor(n_estimators=1000, max_depth=7, eta=0.1, subsample=0.7, colsample_bytree=0.8)\n",
    ")\n",
    "]"
   ]
  },
  {
   "cell_type": "code",
   "execution_count": 42,
   "metadata": {},
   "outputs": [],
   "source": [
    "def compute_final_values(train_all_data, pred_all_data, model, is_fe_check):\n",
    "    X_train, X_test, y_train, y_test = train_test_split(train_all_data, pred_all_data, test_size = 0.30, random_state=1)\n",
    "    # train\n",
    "    idx = 0 if is_fe_check else 1\n",
    "    rf = model.fit(X_train, np.log(1+y_train.iloc[:,idx]))\n",
    "   \n",
    "\n",
    "\n",
    "    score = rf.score(X_test, y_test.iloc[:,idx])\n",
    "    y_pred = rf.predict(X_test)\n",
    "\n",
    "    print(\"Score:\", score)\n",
    "    print(\"Error rate:\", ((mean_squared_error(y_test.iloc[:,idx], y_pred)*100)), \"%\")\n",
    "    \n",
    "    # print(f'Training score for {target_column}: {score}')\n",
    "    # test\n",
    "    predicted = rf.predict(X_test)\n",
    "    return predicted\n"
   ]
  },
  {
   "cell_type": "code",
   "execution_count": 43,
   "metadata": {},
   "outputs": [
    {
     "name": "stdout",
     "output_type": "stream",
     "text": [
      "Running randomforest\n",
      "Score: -0.5011514467630591\n",
      "Error rate: 155.89107875781556 %\n",
      "Score: 0.8119265031226789\n",
      "Error rate: 0.19513779034369536 %\n",
      "Running ridge\n",
      "Score: -0.5011514467630591\n",
      "Error rate: 155.89107875781556 %\n",
      "Score: 0.8119265031226789\n",
      "Error rate: 0.19513779034369536 %\n",
      "Running lasso\n",
      "Score: -0.5011514467630591\n",
      "Error rate: 155.89107875781556 %\n",
      "Score: 0.8119265031226789\n",
      "Error rate: 0.19513779034369536 %\n",
      "Running linear regression\n",
      "Score: -0.5011514467630591\n",
      "Error rate: 155.89107875781556 %\n",
      "Score: 0.8119265031226789\n",
      "Error rate: 0.19513779034369536 %\n",
      "Running catboost\n",
      "Score: -0.5011514467630591\n",
      "Error rate: 155.89107875781556 %\n",
      "Score: 0.8119265031226789\n",
      "Error rate: 0.19513779034369536 %\n",
      "Running xgboost\n",
      "Score: -0.5011514467630591\n",
      "Error rate: 155.89107875781556 %\n",
      "Score: 0.8119265031226789\n",
      "Error rate: 0.19513779034369536 %\n"
     ]
    }
   ],
   "source": [
    "for name, train_model, test_model in models:\n",
    "    print(f'Running {name}')\n",
    "    pred_bandgap = compute_final_values(X_train, y_train, model, is_fe_check=False)\n",
    "    pred_fe = compute_final_values(X_train, y_train, model, is_fe_check=True)\n"
   ]
  },
  {
   "cell_type": "code",
   "execution_count": null,
   "metadata": {},
   "outputs": [],
   "source": []
  }
 ],
 "metadata": {
  "interpreter": {
   "hash": "57878c180c9b27ff6feee091cc910bd21e5a74eaa63329fd7bd5866af7456fcd"
  },
  "kernelspec": {
   "display_name": "Python 3.7.12 64-bit ('ml_project': conda)",
   "name": "python3"
  },
  "language_info": {
   "codemirror_mode": {
    "name": "ipython",
    "version": 3
   },
   "file_extension": ".py",
   "mimetype": "text/x-python",
   "name": "python",
   "nbconvert_exporter": "python",
   "pygments_lexer": "ipython3",
   "version": "3.7.12"
  },
  "orig_nbformat": 4
 },
 "nbformat": 4,
 "nbformat_minor": 2
}
